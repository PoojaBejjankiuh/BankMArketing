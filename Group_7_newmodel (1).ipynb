{
  "cells": [
    {
      "cell_type": "markdown",
      "metadata": {
        "id": "G6vux1yT4SZi"
      },
      "source": [
        "### Use the same dataset from the Semester Project Part 1 and perform classification or regression based on your dataset. Keep some test data to report the performances of your selected models on only train data. Perform visualization of your model performances using apt metrics and charts (ex: MSE bar plots of all the models to identify best models). Please use markdowns to the best use to make code easy to understand, comment important parts, insights, brief descriptions of the steps involved. Use 4 modeling techniques: ́\n",
        "\n",
        "* Linear regression/classification\n",
        "* KNN\n",
        "* Random Forest\n",
        "* SVM with linear kernel and SVM with nonlinear kernel\n",
        "* Another one that you can choose. Deep Learning is not allowed."
      ]
    },
    {
      "cell_type": "code",
      "execution_count": null,
      "metadata": {
        "id": "iZUg2vXsYN_S"
      },
      "outputs": [],
      "source": [
        "import pandas as pd\n",
        "from sklearn.model_selection import train_test_split\n",
        "from sklearn.linear_model import LogisticRegression\n",
        "from sklearn.neighbors import KNeighborsClassifier\n",
        "from sklearn.ensemble import RandomForestClassifier\n",
        "from sklearn.svm import SVC\n",
        "from sklearn.tree import DecisionTreeClassifier\n",
        "from sklearn.metrics import accuracy_score\n",
        "from sklearn.metrics import accuracy_score, precision_score, recall_score, f1_score, roc_auc_score, confusion_matrix"
      ]
    },
    {
      "cell_type": "code",
      "execution_count": null,
      "metadata": {
        "id": "QsUU5o8zU9b0"
      },
      "outputs": [],
      "source": [
        "import pandas as pd\n",
        "df = pd.read_csv('Group_7_Data_clean_woscale.csv')"
      ]
    },
    {
      "cell_type": "code",
      "execution_count": null,
      "metadata": {
        "colab": {
          "base_uri": "https://localhost:8080/",
          "height": 273
        },
        "id": "qzdStlnhVdAb",
        "outputId": "e255169e-0741-4747-ef22-e9105901cb46"
      },
      "outputs": [
        {
          "output_type": "execute_result",
          "data": {
            "text/plain": [
              "   Unnamed: 0  age  housing  loan  month  day_of_week  duration  campaign  \\\n",
              "0           0   56        0     0      6            1       261         1   \n",
              "1           1   57        0     0      6            1       149         1   \n",
              "2           2   37        1     0      6            1       226         1   \n",
              "3           3   40        0     0      6            1       151         1   \n",
              "4           4   56        0     1      6            1       307         1   \n",
              "\n",
              "   previous  emp.var.rate  ...  marital_single  education_basic.6y  \\\n",
              "0         0           1.1  ...               0                   0   \n",
              "1         0           1.1  ...               0                   0   \n",
              "2         0           1.1  ...               0                   0   \n",
              "3         0           1.1  ...               0                   1   \n",
              "4         0           1.1  ...               0                   0   \n",
              "\n",
              "   education_basic.9y  education_high.school  education_illiterate  \\\n",
              "0                   0                      0                     0   \n",
              "1                   0                      1                     0   \n",
              "2                   0                      1                     0   \n",
              "3                   0                      0                     0   \n",
              "4                   0                      1                     0   \n",
              "\n",
              "   education_professional.course  education_university.degree  \\\n",
              "0                              0                            0   \n",
              "1                              0                            0   \n",
              "2                              0                            0   \n",
              "3                              0                            0   \n",
              "4                              0                            0   \n",
              "\n",
              "   poutcome_nonexistent  poutcome_success  y  \n",
              "0                     1                 0  0  \n",
              "1                     1                 0  0  \n",
              "2                     1                 0  0  \n",
              "3                     1                 0  0  \n",
              "4                     1                 0  0  \n",
              "\n",
              "[5 rows x 35 columns]"
            ],
            "text/html": [
              "\n",
              "  <div id=\"df-589ce05a-a2c3-4743-a820-be59196dfb75\" class=\"colab-df-container\">\n",
              "    <div>\n",
              "<style scoped>\n",
              "    .dataframe tbody tr th:only-of-type {\n",
              "        vertical-align: middle;\n",
              "    }\n",
              "\n",
              "    .dataframe tbody tr th {\n",
              "        vertical-align: top;\n",
              "    }\n",
              "\n",
              "    .dataframe thead th {\n",
              "        text-align: right;\n",
              "    }\n",
              "</style>\n",
              "<table border=\"1\" class=\"dataframe\">\n",
              "  <thead>\n",
              "    <tr style=\"text-align: right;\">\n",
              "      <th></th>\n",
              "      <th>Unnamed: 0</th>\n",
              "      <th>age</th>\n",
              "      <th>housing</th>\n",
              "      <th>loan</th>\n",
              "      <th>month</th>\n",
              "      <th>day_of_week</th>\n",
              "      <th>duration</th>\n",
              "      <th>campaign</th>\n",
              "      <th>previous</th>\n",
              "      <th>emp.var.rate</th>\n",
              "      <th>...</th>\n",
              "      <th>marital_single</th>\n",
              "      <th>education_basic.6y</th>\n",
              "      <th>education_basic.9y</th>\n",
              "      <th>education_high.school</th>\n",
              "      <th>education_illiterate</th>\n",
              "      <th>education_professional.course</th>\n",
              "      <th>education_university.degree</th>\n",
              "      <th>poutcome_nonexistent</th>\n",
              "      <th>poutcome_success</th>\n",
              "      <th>y</th>\n",
              "    </tr>\n",
              "  </thead>\n",
              "  <tbody>\n",
              "    <tr>\n",
              "      <th>0</th>\n",
              "      <td>0</td>\n",
              "      <td>56</td>\n",
              "      <td>0</td>\n",
              "      <td>0</td>\n",
              "      <td>6</td>\n",
              "      <td>1</td>\n",
              "      <td>261</td>\n",
              "      <td>1</td>\n",
              "      <td>0</td>\n",
              "      <td>1.1</td>\n",
              "      <td>...</td>\n",
              "      <td>0</td>\n",
              "      <td>0</td>\n",
              "      <td>0</td>\n",
              "      <td>0</td>\n",
              "      <td>0</td>\n",
              "      <td>0</td>\n",
              "      <td>0</td>\n",
              "      <td>1</td>\n",
              "      <td>0</td>\n",
              "      <td>0</td>\n",
              "    </tr>\n",
              "    <tr>\n",
              "      <th>1</th>\n",
              "      <td>1</td>\n",
              "      <td>57</td>\n",
              "      <td>0</td>\n",
              "      <td>0</td>\n",
              "      <td>6</td>\n",
              "      <td>1</td>\n",
              "      <td>149</td>\n",
              "      <td>1</td>\n",
              "      <td>0</td>\n",
              "      <td>1.1</td>\n",
              "      <td>...</td>\n",
              "      <td>0</td>\n",
              "      <td>0</td>\n",
              "      <td>0</td>\n",
              "      <td>1</td>\n",
              "      <td>0</td>\n",
              "      <td>0</td>\n",
              "      <td>0</td>\n",
              "      <td>1</td>\n",
              "      <td>0</td>\n",
              "      <td>0</td>\n",
              "    </tr>\n",
              "    <tr>\n",
              "      <th>2</th>\n",
              "      <td>2</td>\n",
              "      <td>37</td>\n",
              "      <td>1</td>\n",
              "      <td>0</td>\n",
              "      <td>6</td>\n",
              "      <td>1</td>\n",
              "      <td>226</td>\n",
              "      <td>1</td>\n",
              "      <td>0</td>\n",
              "      <td>1.1</td>\n",
              "      <td>...</td>\n",
              "      <td>0</td>\n",
              "      <td>0</td>\n",
              "      <td>0</td>\n",
              "      <td>1</td>\n",
              "      <td>0</td>\n",
              "      <td>0</td>\n",
              "      <td>0</td>\n",
              "      <td>1</td>\n",
              "      <td>0</td>\n",
              "      <td>0</td>\n",
              "    </tr>\n",
              "    <tr>\n",
              "      <th>3</th>\n",
              "      <td>3</td>\n",
              "      <td>40</td>\n",
              "      <td>0</td>\n",
              "      <td>0</td>\n",
              "      <td>6</td>\n",
              "      <td>1</td>\n",
              "      <td>151</td>\n",
              "      <td>1</td>\n",
              "      <td>0</td>\n",
              "      <td>1.1</td>\n",
              "      <td>...</td>\n",
              "      <td>0</td>\n",
              "      <td>1</td>\n",
              "      <td>0</td>\n",
              "      <td>0</td>\n",
              "      <td>0</td>\n",
              "      <td>0</td>\n",
              "      <td>0</td>\n",
              "      <td>1</td>\n",
              "      <td>0</td>\n",
              "      <td>0</td>\n",
              "    </tr>\n",
              "    <tr>\n",
              "      <th>4</th>\n",
              "      <td>4</td>\n",
              "      <td>56</td>\n",
              "      <td>0</td>\n",
              "      <td>1</td>\n",
              "      <td>6</td>\n",
              "      <td>1</td>\n",
              "      <td>307</td>\n",
              "      <td>1</td>\n",
              "      <td>0</td>\n",
              "      <td>1.1</td>\n",
              "      <td>...</td>\n",
              "      <td>0</td>\n",
              "      <td>0</td>\n",
              "      <td>0</td>\n",
              "      <td>1</td>\n",
              "      <td>0</td>\n",
              "      <td>0</td>\n",
              "      <td>0</td>\n",
              "      <td>1</td>\n",
              "      <td>0</td>\n",
              "      <td>0</td>\n",
              "    </tr>\n",
              "  </tbody>\n",
              "</table>\n",
              "<p>5 rows × 35 columns</p>\n",
              "</div>\n",
              "    <div class=\"colab-df-buttons\">\n",
              "\n",
              "  <div class=\"colab-df-container\">\n",
              "    <button class=\"colab-df-convert\" onclick=\"convertToInteractive('df-589ce05a-a2c3-4743-a820-be59196dfb75')\"\n",
              "            title=\"Convert this dataframe to an interactive table.\"\n",
              "            style=\"display:none;\">\n",
              "\n",
              "  <svg xmlns=\"http://www.w3.org/2000/svg\" height=\"24px\" viewBox=\"0 -960 960 960\">\n",
              "    <path d=\"M120-120v-720h720v720H120Zm60-500h600v-160H180v160Zm220 220h160v-160H400v160Zm0 220h160v-160H400v160ZM180-400h160v-160H180v160Zm440 0h160v-160H620v160ZM180-180h160v-160H180v160Zm440 0h160v-160H620v160Z\"/>\n",
              "  </svg>\n",
              "    </button>\n",
              "\n",
              "  <style>\n",
              "    .colab-df-container {\n",
              "      display:flex;\n",
              "      gap: 12px;\n",
              "    }\n",
              "\n",
              "    .colab-df-convert {\n",
              "      background-color: #E8F0FE;\n",
              "      border: none;\n",
              "      border-radius: 50%;\n",
              "      cursor: pointer;\n",
              "      display: none;\n",
              "      fill: #1967D2;\n",
              "      height: 32px;\n",
              "      padding: 0 0 0 0;\n",
              "      width: 32px;\n",
              "    }\n",
              "\n",
              "    .colab-df-convert:hover {\n",
              "      background-color: #E2EBFA;\n",
              "      box-shadow: 0px 1px 2px rgba(60, 64, 67, 0.3), 0px 1px 3px 1px rgba(60, 64, 67, 0.15);\n",
              "      fill: #174EA6;\n",
              "    }\n",
              "\n",
              "    .colab-df-buttons div {\n",
              "      margin-bottom: 4px;\n",
              "    }\n",
              "\n",
              "    [theme=dark] .colab-df-convert {\n",
              "      background-color: #3B4455;\n",
              "      fill: #D2E3FC;\n",
              "    }\n",
              "\n",
              "    [theme=dark] .colab-df-convert:hover {\n",
              "      background-color: #434B5C;\n",
              "      box-shadow: 0px 1px 3px 1px rgba(0, 0, 0, 0.15);\n",
              "      filter: drop-shadow(0px 1px 2px rgba(0, 0, 0, 0.3));\n",
              "      fill: #FFFFFF;\n",
              "    }\n",
              "  </style>\n",
              "\n",
              "    <script>\n",
              "      const buttonEl =\n",
              "        document.querySelector('#df-589ce05a-a2c3-4743-a820-be59196dfb75 button.colab-df-convert');\n",
              "      buttonEl.style.display =\n",
              "        google.colab.kernel.accessAllowed ? 'block' : 'none';\n",
              "\n",
              "      async function convertToInteractive(key) {\n",
              "        const element = document.querySelector('#df-589ce05a-a2c3-4743-a820-be59196dfb75');\n",
              "        const dataTable =\n",
              "          await google.colab.kernel.invokeFunction('convertToInteractive',\n",
              "                                                    [key], {});\n",
              "        if (!dataTable) return;\n",
              "\n",
              "        const docLinkHtml = 'Like what you see? Visit the ' +\n",
              "          '<a target=\"_blank\" href=https://colab.research.google.com/notebooks/data_table.ipynb>data table notebook</a>'\n",
              "          + ' to learn more about interactive tables.';\n",
              "        element.innerHTML = '';\n",
              "        dataTable['output_type'] = 'display_data';\n",
              "        await google.colab.output.renderOutput(dataTable, element);\n",
              "        const docLink = document.createElement('div');\n",
              "        docLink.innerHTML = docLinkHtml;\n",
              "        element.appendChild(docLink);\n",
              "      }\n",
              "    </script>\n",
              "  </div>\n",
              "\n",
              "\n",
              "<div id=\"df-d960c46f-e136-4709-b220-3439713c90e5\">\n",
              "  <button class=\"colab-df-quickchart\" onclick=\"quickchart('df-d960c46f-e136-4709-b220-3439713c90e5')\"\n",
              "            title=\"Suggest charts\"\n",
              "            style=\"display:none;\">\n",
              "\n",
              "<svg xmlns=\"http://www.w3.org/2000/svg\" height=\"24px\"viewBox=\"0 0 24 24\"\n",
              "     width=\"24px\">\n",
              "    <g>\n",
              "        <path d=\"M19 3H5c-1.1 0-2 .9-2 2v14c0 1.1.9 2 2 2h14c1.1 0 2-.9 2-2V5c0-1.1-.9-2-2-2zM9 17H7v-7h2v7zm4 0h-2V7h2v10zm4 0h-2v-4h2v4z\"/>\n",
              "    </g>\n",
              "</svg>\n",
              "  </button>\n",
              "\n",
              "<style>\n",
              "  .colab-df-quickchart {\n",
              "      --bg-color: #E8F0FE;\n",
              "      --fill-color: #1967D2;\n",
              "      --hover-bg-color: #E2EBFA;\n",
              "      --hover-fill-color: #174EA6;\n",
              "      --disabled-fill-color: #AAA;\n",
              "      --disabled-bg-color: #DDD;\n",
              "  }\n",
              "\n",
              "  [theme=dark] .colab-df-quickchart {\n",
              "      --bg-color: #3B4455;\n",
              "      --fill-color: #D2E3FC;\n",
              "      --hover-bg-color: #434B5C;\n",
              "      --hover-fill-color: #FFFFFF;\n",
              "      --disabled-bg-color: #3B4455;\n",
              "      --disabled-fill-color: #666;\n",
              "  }\n",
              "\n",
              "  .colab-df-quickchart {\n",
              "    background-color: var(--bg-color);\n",
              "    border: none;\n",
              "    border-radius: 50%;\n",
              "    cursor: pointer;\n",
              "    display: none;\n",
              "    fill: var(--fill-color);\n",
              "    height: 32px;\n",
              "    padding: 0;\n",
              "    width: 32px;\n",
              "  }\n",
              "\n",
              "  .colab-df-quickchart:hover {\n",
              "    background-color: var(--hover-bg-color);\n",
              "    box-shadow: 0 1px 2px rgba(60, 64, 67, 0.3), 0 1px 3px 1px rgba(60, 64, 67, 0.15);\n",
              "    fill: var(--button-hover-fill-color);\n",
              "  }\n",
              "\n",
              "  .colab-df-quickchart-complete:disabled,\n",
              "  .colab-df-quickchart-complete:disabled:hover {\n",
              "    background-color: var(--disabled-bg-color);\n",
              "    fill: var(--disabled-fill-color);\n",
              "    box-shadow: none;\n",
              "  }\n",
              "\n",
              "  .colab-df-spinner {\n",
              "    border: 2px solid var(--fill-color);\n",
              "    border-color: transparent;\n",
              "    border-bottom-color: var(--fill-color);\n",
              "    animation:\n",
              "      spin 1s steps(1) infinite;\n",
              "  }\n",
              "\n",
              "  @keyframes spin {\n",
              "    0% {\n",
              "      border-color: transparent;\n",
              "      border-bottom-color: var(--fill-color);\n",
              "      border-left-color: var(--fill-color);\n",
              "    }\n",
              "    20% {\n",
              "      border-color: transparent;\n",
              "      border-left-color: var(--fill-color);\n",
              "      border-top-color: var(--fill-color);\n",
              "    }\n",
              "    30% {\n",
              "      border-color: transparent;\n",
              "      border-left-color: var(--fill-color);\n",
              "      border-top-color: var(--fill-color);\n",
              "      border-right-color: var(--fill-color);\n",
              "    }\n",
              "    40% {\n",
              "      border-color: transparent;\n",
              "      border-right-color: var(--fill-color);\n",
              "      border-top-color: var(--fill-color);\n",
              "    }\n",
              "    60% {\n",
              "      border-color: transparent;\n",
              "      border-right-color: var(--fill-color);\n",
              "    }\n",
              "    80% {\n",
              "      border-color: transparent;\n",
              "      border-right-color: var(--fill-color);\n",
              "      border-bottom-color: var(--fill-color);\n",
              "    }\n",
              "    90% {\n",
              "      border-color: transparent;\n",
              "      border-bottom-color: var(--fill-color);\n",
              "    }\n",
              "  }\n",
              "</style>\n",
              "\n",
              "  <script>\n",
              "    async function quickchart(key) {\n",
              "      const quickchartButtonEl =\n",
              "        document.querySelector('#' + key + ' button');\n",
              "      quickchartButtonEl.disabled = true;  // To prevent multiple clicks.\n",
              "      quickchartButtonEl.classList.add('colab-df-spinner');\n",
              "      try {\n",
              "        const charts = await google.colab.kernel.invokeFunction(\n",
              "            'suggestCharts', [key], {});\n",
              "      } catch (error) {\n",
              "        console.error('Error during call to suggestCharts:', error);\n",
              "      }\n",
              "      quickchartButtonEl.classList.remove('colab-df-spinner');\n",
              "      quickchartButtonEl.classList.add('colab-df-quickchart-complete');\n",
              "    }\n",
              "    (() => {\n",
              "      let quickchartButtonEl =\n",
              "        document.querySelector('#df-d960c46f-e136-4709-b220-3439713c90e5 button');\n",
              "      quickchartButtonEl.style.display =\n",
              "        google.colab.kernel.accessAllowed ? 'block' : 'none';\n",
              "    })();\n",
              "  </script>\n",
              "</div>\n",
              "    </div>\n",
              "  </div>\n"
            ]
          },
          "metadata": {},
          "execution_count": 4
        }
      ],
      "source": [
        "df.head()"
      ]
    },
    {
      "cell_type": "code",
      "source": [
        "X = df.drop('y', axis=1)  # Features\n",
        "y = df['y']"
      ],
      "metadata": {
        "id": "OvpzndO5MIrX"
      },
      "execution_count": null,
      "outputs": []
    },
    {
      "cell_type": "code",
      "source": [
        "X1_train, X1_test, y1_train, y1_test = train_test_split(X, y, test_size=0.2, random_state=42)"
      ],
      "metadata": {
        "id": "z6VEdINiMMzx"
      },
      "execution_count": null,
      "outputs": []
    },
    {
      "cell_type": "code",
      "source": [
        "from sklearn.preprocessing import StandardScaler\n",
        "sc = StandardScaler()\n",
        "X_train = sc.fit_transform(X1_train)\n",
        "X_test = sc.transform (X1_test)"
      ],
      "metadata": {
        "id": "KRCEfW7ipi6r"
      },
      "execution_count": null,
      "outputs": []
    },
    {
      "cell_type": "markdown",
      "source": [
        "### using Logistic regression"
      ],
      "metadata": {
        "id": "kA7Zy8YRGHJo"
      }
    },
    {
      "cell_type": "code",
      "execution_count": null,
      "metadata": {
        "id": "ayuX4ggHY3YG"
      },
      "outputs": [],
      "source": [
        "model1=LogisticRegression()"
      ]
    },
    {
      "cell_type": "code",
      "execution_count": null,
      "metadata": {
        "colab": {
          "base_uri": "https://localhost:8080/",
          "height": 74
        },
        "id": "4ILmZ-9hY9tJ",
        "outputId": "ba7029ad-2547-4248-a243-8b1abcbf7fa8"
      },
      "outputs": [
        {
          "output_type": "execute_result",
          "data": {
            "text/plain": [
              "LogisticRegression()"
            ],
            "text/html": [
              "<style>#sk-container-id-1 {color: black;background-color: white;}#sk-container-id-1 pre{padding: 0;}#sk-container-id-1 div.sk-toggleable {background-color: white;}#sk-container-id-1 label.sk-toggleable__label {cursor: pointer;display: block;width: 100%;margin-bottom: 0;padding: 0.3em;box-sizing: border-box;text-align: center;}#sk-container-id-1 label.sk-toggleable__label-arrow:before {content: \"▸\";float: left;margin-right: 0.25em;color: #696969;}#sk-container-id-1 label.sk-toggleable__label-arrow:hover:before {color: black;}#sk-container-id-1 div.sk-estimator:hover label.sk-toggleable__label-arrow:before {color: black;}#sk-container-id-1 div.sk-toggleable__content {max-height: 0;max-width: 0;overflow: hidden;text-align: left;background-color: #f0f8ff;}#sk-container-id-1 div.sk-toggleable__content pre {margin: 0.2em;color: black;border-radius: 0.25em;background-color: #f0f8ff;}#sk-container-id-1 input.sk-toggleable__control:checked~div.sk-toggleable__content {max-height: 200px;max-width: 100%;overflow: auto;}#sk-container-id-1 input.sk-toggleable__control:checked~label.sk-toggleable__label-arrow:before {content: \"▾\";}#sk-container-id-1 div.sk-estimator input.sk-toggleable__control:checked~label.sk-toggleable__label {background-color: #d4ebff;}#sk-container-id-1 div.sk-label input.sk-toggleable__control:checked~label.sk-toggleable__label {background-color: #d4ebff;}#sk-container-id-1 input.sk-hidden--visually {border: 0;clip: rect(1px 1px 1px 1px);clip: rect(1px, 1px, 1px, 1px);height: 1px;margin: -1px;overflow: hidden;padding: 0;position: absolute;width: 1px;}#sk-container-id-1 div.sk-estimator {font-family: monospace;background-color: #f0f8ff;border: 1px dotted black;border-radius: 0.25em;box-sizing: border-box;margin-bottom: 0.5em;}#sk-container-id-1 div.sk-estimator:hover {background-color: #d4ebff;}#sk-container-id-1 div.sk-parallel-item::after {content: \"\";width: 100%;border-bottom: 1px solid gray;flex-grow: 1;}#sk-container-id-1 div.sk-label:hover label.sk-toggleable__label {background-color: #d4ebff;}#sk-container-id-1 div.sk-serial::before {content: \"\";position: absolute;border-left: 1px solid gray;box-sizing: border-box;top: 0;bottom: 0;left: 50%;z-index: 0;}#sk-container-id-1 div.sk-serial {display: flex;flex-direction: column;align-items: center;background-color: white;padding-right: 0.2em;padding-left: 0.2em;position: relative;}#sk-container-id-1 div.sk-item {position: relative;z-index: 1;}#sk-container-id-1 div.sk-parallel {display: flex;align-items: stretch;justify-content: center;background-color: white;position: relative;}#sk-container-id-1 div.sk-item::before, #sk-container-id-1 div.sk-parallel-item::before {content: \"\";position: absolute;border-left: 1px solid gray;box-sizing: border-box;top: 0;bottom: 0;left: 50%;z-index: -1;}#sk-container-id-1 div.sk-parallel-item {display: flex;flex-direction: column;z-index: 1;position: relative;background-color: white;}#sk-container-id-1 div.sk-parallel-item:first-child::after {align-self: flex-end;width: 50%;}#sk-container-id-1 div.sk-parallel-item:last-child::after {align-self: flex-start;width: 50%;}#sk-container-id-1 div.sk-parallel-item:only-child::after {width: 0;}#sk-container-id-1 div.sk-dashed-wrapped {border: 1px dashed gray;margin: 0 0.4em 0.5em 0.4em;box-sizing: border-box;padding-bottom: 0.4em;background-color: white;}#sk-container-id-1 div.sk-label label {font-family: monospace;font-weight: bold;display: inline-block;line-height: 1.2em;}#sk-container-id-1 div.sk-label-container {text-align: center;}#sk-container-id-1 div.sk-container {/* jupyter's `normalize.less` sets `[hidden] { display: none; }` but bootstrap.min.css set `[hidden] { display: none !important; }` so we also need the `!important` here to be able to override the default hidden behavior on the sphinx rendered scikit-learn.org. See: https://github.com/scikit-learn/scikit-learn/issues/21755 */display: inline-block !important;position: relative;}#sk-container-id-1 div.sk-text-repr-fallback {display: none;}</style><div id=\"sk-container-id-1\" class=\"sk-top-container\"><div class=\"sk-text-repr-fallback\"><pre>LogisticRegression()</pre><b>In a Jupyter environment, please rerun this cell to show the HTML representation or trust the notebook. <br />On GitHub, the HTML representation is unable to render, please try loading this page with nbviewer.org.</b></div><div class=\"sk-container\" hidden><div class=\"sk-item\"><div class=\"sk-estimator sk-toggleable\"><input class=\"sk-toggleable__control sk-hidden--visually\" id=\"sk-estimator-id-1\" type=\"checkbox\" checked><label for=\"sk-estimator-id-1\" class=\"sk-toggleable__label sk-toggleable__label-arrow\">LogisticRegression</label><div class=\"sk-toggleable__content\"><pre>LogisticRegression()</pre></div></div></div></div></div>"
            ]
          },
          "metadata": {},
          "execution_count": 9
        }
      ],
      "source": [
        "model1.fit(X_train, y1_train)"
      ]
    },
    {
      "cell_type": "code",
      "execution_count": null,
      "metadata": {
        "id": "2KMjY_rOaUib"
      },
      "outputs": [],
      "source": [
        "y_pred1 = model1.predict(X_test)  # Get predictions"
      ]
    },
    {
      "cell_type": "code",
      "execution_count": null,
      "metadata": {
        "colab": {
          "base_uri": "https://localhost:8080/"
        },
        "id": "4q0-HBbQaVwj",
        "outputId": "1abcab7a-0c12-4cb5-c815-7475906c12cc"
      },
      "outputs": [
        {
          "output_type": "execute_result",
          "data": {
            "text/plain": [
              "0.9407458091002395"
            ]
          },
          "metadata": {},
          "execution_count": 11
        }
      ],
      "source": [
        "accuracy1 = accuracy_score(y1_test, y_pred1)\n",
        "accuracy1"
      ]
    },
    {
      "cell_type": "code",
      "source": [
        "precision = precision_score(y1_test, y_pred1)\n",
        "recall = recall_score(y1_test, y_pred1)\n",
        "f1 = f1_score(y1_test, y_pred1)\n",
        "conf_matrix = confusion_matrix(y1_test, y_pred1)\n",
        "print(\"Accuracy: \",accuracy1)\n",
        "print(f\"Precision: \",precision)\n",
        "print(f\"Recall: \",recall)\n",
        "print(f\"F1-Score: \",f1)"
      ],
      "metadata": {
        "colab": {
          "base_uri": "https://localhost:8080/"
        },
        "id": "fc4P5x93OJiL",
        "outputId": "eae39a12-0ec4-4e24-d874-bbd6392d2b89"
      },
      "execution_count": null,
      "outputs": [
        {
          "output_type": "stream",
          "name": "stdout",
          "text": [
            "Accuracy:  0.9407458091002395\n",
            "Precision:  0.9562366357804705\n",
            "Recall:  0.9230769230769231\n",
            "F1-Score:  0.9393642347010225\n"
          ]
        }
      ]
    },
    {
      "cell_type": "markdown",
      "metadata": {
        "id": "2FJnnsuI3llt"
      },
      "source": [
        "### Using KNeighborsClassifier()"
      ]
    },
    {
      "cell_type": "code",
      "execution_count": null,
      "metadata": {
        "id": "A9D4admbbZYt"
      },
      "outputs": [],
      "source": [
        "model2=KNeighborsClassifier()"
      ]
    },
    {
      "cell_type": "code",
      "execution_count": null,
      "metadata": {
        "colab": {
          "base_uri": "https://localhost:8080/",
          "height": 74
        },
        "id": "fyaMo64wX1fG",
        "outputId": "1248f2b1-e1d6-4f2b-efc7-ed47a9f13b4b"
      },
      "outputs": [
        {
          "output_type": "execute_result",
          "data": {
            "text/plain": [
              "KNeighborsClassifier()"
            ],
            "text/html": [
              "<style>#sk-container-id-2 {color: black;background-color: white;}#sk-container-id-2 pre{padding: 0;}#sk-container-id-2 div.sk-toggleable {background-color: white;}#sk-container-id-2 label.sk-toggleable__label {cursor: pointer;display: block;width: 100%;margin-bottom: 0;padding: 0.3em;box-sizing: border-box;text-align: center;}#sk-container-id-2 label.sk-toggleable__label-arrow:before {content: \"▸\";float: left;margin-right: 0.25em;color: #696969;}#sk-container-id-2 label.sk-toggleable__label-arrow:hover:before {color: black;}#sk-container-id-2 div.sk-estimator:hover label.sk-toggleable__label-arrow:before {color: black;}#sk-container-id-2 div.sk-toggleable__content {max-height: 0;max-width: 0;overflow: hidden;text-align: left;background-color: #f0f8ff;}#sk-container-id-2 div.sk-toggleable__content pre {margin: 0.2em;color: black;border-radius: 0.25em;background-color: #f0f8ff;}#sk-container-id-2 input.sk-toggleable__control:checked~div.sk-toggleable__content {max-height: 200px;max-width: 100%;overflow: auto;}#sk-container-id-2 input.sk-toggleable__control:checked~label.sk-toggleable__label-arrow:before {content: \"▾\";}#sk-container-id-2 div.sk-estimator input.sk-toggleable__control:checked~label.sk-toggleable__label {background-color: #d4ebff;}#sk-container-id-2 div.sk-label input.sk-toggleable__control:checked~label.sk-toggleable__label {background-color: #d4ebff;}#sk-container-id-2 input.sk-hidden--visually {border: 0;clip: rect(1px 1px 1px 1px);clip: rect(1px, 1px, 1px, 1px);height: 1px;margin: -1px;overflow: hidden;padding: 0;position: absolute;width: 1px;}#sk-container-id-2 div.sk-estimator {font-family: monospace;background-color: #f0f8ff;border: 1px dotted black;border-radius: 0.25em;box-sizing: border-box;margin-bottom: 0.5em;}#sk-container-id-2 div.sk-estimator:hover {background-color: #d4ebff;}#sk-container-id-2 div.sk-parallel-item::after {content: \"\";width: 100%;border-bottom: 1px solid gray;flex-grow: 1;}#sk-container-id-2 div.sk-label:hover label.sk-toggleable__label {background-color: #d4ebff;}#sk-container-id-2 div.sk-serial::before {content: \"\";position: absolute;border-left: 1px solid gray;box-sizing: border-box;top: 0;bottom: 0;left: 50%;z-index: 0;}#sk-container-id-2 div.sk-serial {display: flex;flex-direction: column;align-items: center;background-color: white;padding-right: 0.2em;padding-left: 0.2em;position: relative;}#sk-container-id-2 div.sk-item {position: relative;z-index: 1;}#sk-container-id-2 div.sk-parallel {display: flex;align-items: stretch;justify-content: center;background-color: white;position: relative;}#sk-container-id-2 div.sk-item::before, #sk-container-id-2 div.sk-parallel-item::before {content: \"\";position: absolute;border-left: 1px solid gray;box-sizing: border-box;top: 0;bottom: 0;left: 50%;z-index: -1;}#sk-container-id-2 div.sk-parallel-item {display: flex;flex-direction: column;z-index: 1;position: relative;background-color: white;}#sk-container-id-2 div.sk-parallel-item:first-child::after {align-self: flex-end;width: 50%;}#sk-container-id-2 div.sk-parallel-item:last-child::after {align-self: flex-start;width: 50%;}#sk-container-id-2 div.sk-parallel-item:only-child::after {width: 0;}#sk-container-id-2 div.sk-dashed-wrapped {border: 1px dashed gray;margin: 0 0.4em 0.5em 0.4em;box-sizing: border-box;padding-bottom: 0.4em;background-color: white;}#sk-container-id-2 div.sk-label label {font-family: monospace;font-weight: bold;display: inline-block;line-height: 1.2em;}#sk-container-id-2 div.sk-label-container {text-align: center;}#sk-container-id-2 div.sk-container {/* jupyter's `normalize.less` sets `[hidden] { display: none; }` but bootstrap.min.css set `[hidden] { display: none !important; }` so we also need the `!important` here to be able to override the default hidden behavior on the sphinx rendered scikit-learn.org. See: https://github.com/scikit-learn/scikit-learn/issues/21755 */display: inline-block !important;position: relative;}#sk-container-id-2 div.sk-text-repr-fallback {display: none;}</style><div id=\"sk-container-id-2\" class=\"sk-top-container\"><div class=\"sk-text-repr-fallback\"><pre>KNeighborsClassifier()</pre><b>In a Jupyter environment, please rerun this cell to show the HTML representation or trust the notebook. <br />On GitHub, the HTML representation is unable to render, please try loading this page with nbviewer.org.</b></div><div class=\"sk-container\" hidden><div class=\"sk-item\"><div class=\"sk-estimator sk-toggleable\"><input class=\"sk-toggleable__control sk-hidden--visually\" id=\"sk-estimator-id-2\" type=\"checkbox\" checked><label for=\"sk-estimator-id-2\" class=\"sk-toggleable__label sk-toggleable__label-arrow\">KNeighborsClassifier</label><div class=\"sk-toggleable__content\"><pre>KNeighborsClassifier()</pre></div></div></div></div></div>"
            ]
          },
          "metadata": {},
          "execution_count": 14
        }
      ],
      "source": [
        "model2.fit(X_train, y1_train)"
      ]
    },
    {
      "cell_type": "code",
      "execution_count": null,
      "metadata": {
        "id": "IXOQJ9y5X8gl"
      },
      "outputs": [],
      "source": [
        "y_pred2 = model2.predict(X_test)"
      ]
    },
    {
      "cell_type": "code",
      "execution_count": null,
      "metadata": {
        "colab": {
          "base_uri": "https://localhost:8080/"
        },
        "id": "EWYJp0vEbZVT",
        "outputId": "1f55c56d-d1d9-4db0-f0da-cbc4a3e3b22e"
      },
      "outputs": [
        {
          "output_type": "execute_result",
          "data": {
            "text/plain": [
              "0.9323982210058159"
            ]
          },
          "metadata": {},
          "execution_count": 16
        }
      ],
      "source": [
        "accuracy2 = accuracy_score(y1_test, y_pred2)\n",
        "accuracy2"
      ]
    },
    {
      "cell_type": "code",
      "source": [
        "precision = precision_score(y1_test, y_pred2)\n",
        "recall = recall_score(y1_test, y_pred2)\n",
        "f1 = f1_score(y1_test, y_pred2)\n",
        "conf_matrix = confusion_matrix(y1_test, y_pred2)\n",
        "print(\"Accuracy: \",accuracy2)\n",
        "print(f\"Precision: \",precision)\n",
        "print(f\"Recall: \",recall)\n",
        "print(f\"F1-Score: \",f1)"
      ],
      "metadata": {
        "colab": {
          "base_uri": "https://localhost:8080/"
        },
        "id": "-ocfR4IEOLXA",
        "outputId": "3e2542fd-7eb1-448d-c397-671eed08b122"
      },
      "execution_count": null,
      "outputs": [
        {
          "output_type": "stream",
          "name": "stdout",
          "text": [
            "Accuracy:  0.9323982210058159\n",
            "Precision:  0.9436201780415431\n",
            "Recall:  0.9189486720792625\n",
            "F1-Score:  0.9311210262130508\n"
          ]
        }
      ]
    },
    {
      "cell_type": "markdown",
      "metadata": {
        "id": "oxemRi_H333c"
      },
      "source": [
        "### Using Random Forest Classifier()"
      ]
    },
    {
      "cell_type": "code",
      "execution_count": null,
      "metadata": {
        "id": "eVgya9yqbZSC"
      },
      "outputs": [],
      "source": [
        "model3=RandomForestClassifier()"
      ]
    },
    {
      "cell_type": "code",
      "execution_count": null,
      "metadata": {
        "colab": {
          "base_uri": "https://localhost:8080/",
          "height": 74
        },
        "id": "bWI2QIbAXpq2",
        "outputId": "0f0085bf-64ae-47d2-bc4e-dd3be15eecc4"
      },
      "outputs": [
        {
          "output_type": "execute_result",
          "data": {
            "text/plain": [
              "RandomForestClassifier()"
            ],
            "text/html": [
              "<style>#sk-container-id-3 {color: black;background-color: white;}#sk-container-id-3 pre{padding: 0;}#sk-container-id-3 div.sk-toggleable {background-color: white;}#sk-container-id-3 label.sk-toggleable__label {cursor: pointer;display: block;width: 100%;margin-bottom: 0;padding: 0.3em;box-sizing: border-box;text-align: center;}#sk-container-id-3 label.sk-toggleable__label-arrow:before {content: \"▸\";float: left;margin-right: 0.25em;color: #696969;}#sk-container-id-3 label.sk-toggleable__label-arrow:hover:before {color: black;}#sk-container-id-3 div.sk-estimator:hover label.sk-toggleable__label-arrow:before {color: black;}#sk-container-id-3 div.sk-toggleable__content {max-height: 0;max-width: 0;overflow: hidden;text-align: left;background-color: #f0f8ff;}#sk-container-id-3 div.sk-toggleable__content pre {margin: 0.2em;color: black;border-radius: 0.25em;background-color: #f0f8ff;}#sk-container-id-3 input.sk-toggleable__control:checked~div.sk-toggleable__content {max-height: 200px;max-width: 100%;overflow: auto;}#sk-container-id-3 input.sk-toggleable__control:checked~label.sk-toggleable__label-arrow:before {content: \"▾\";}#sk-container-id-3 div.sk-estimator input.sk-toggleable__control:checked~label.sk-toggleable__label {background-color: #d4ebff;}#sk-container-id-3 div.sk-label input.sk-toggleable__control:checked~label.sk-toggleable__label {background-color: #d4ebff;}#sk-container-id-3 input.sk-hidden--visually {border: 0;clip: rect(1px 1px 1px 1px);clip: rect(1px, 1px, 1px, 1px);height: 1px;margin: -1px;overflow: hidden;padding: 0;position: absolute;width: 1px;}#sk-container-id-3 div.sk-estimator {font-family: monospace;background-color: #f0f8ff;border: 1px dotted black;border-radius: 0.25em;box-sizing: border-box;margin-bottom: 0.5em;}#sk-container-id-3 div.sk-estimator:hover {background-color: #d4ebff;}#sk-container-id-3 div.sk-parallel-item::after {content: \"\";width: 100%;border-bottom: 1px solid gray;flex-grow: 1;}#sk-container-id-3 div.sk-label:hover label.sk-toggleable__label {background-color: #d4ebff;}#sk-container-id-3 div.sk-serial::before {content: \"\";position: absolute;border-left: 1px solid gray;box-sizing: border-box;top: 0;bottom: 0;left: 50%;z-index: 0;}#sk-container-id-3 div.sk-serial {display: flex;flex-direction: column;align-items: center;background-color: white;padding-right: 0.2em;padding-left: 0.2em;position: relative;}#sk-container-id-3 div.sk-item {position: relative;z-index: 1;}#sk-container-id-3 div.sk-parallel {display: flex;align-items: stretch;justify-content: center;background-color: white;position: relative;}#sk-container-id-3 div.sk-item::before, #sk-container-id-3 div.sk-parallel-item::before {content: \"\";position: absolute;border-left: 1px solid gray;box-sizing: border-box;top: 0;bottom: 0;left: 50%;z-index: -1;}#sk-container-id-3 div.sk-parallel-item {display: flex;flex-direction: column;z-index: 1;position: relative;background-color: white;}#sk-container-id-3 div.sk-parallel-item:first-child::after {align-self: flex-end;width: 50%;}#sk-container-id-3 div.sk-parallel-item:last-child::after {align-self: flex-start;width: 50%;}#sk-container-id-3 div.sk-parallel-item:only-child::after {width: 0;}#sk-container-id-3 div.sk-dashed-wrapped {border: 1px dashed gray;margin: 0 0.4em 0.5em 0.4em;box-sizing: border-box;padding-bottom: 0.4em;background-color: white;}#sk-container-id-3 div.sk-label label {font-family: monospace;font-weight: bold;display: inline-block;line-height: 1.2em;}#sk-container-id-3 div.sk-label-container {text-align: center;}#sk-container-id-3 div.sk-container {/* jupyter's `normalize.less` sets `[hidden] { display: none; }` but bootstrap.min.css set `[hidden] { display: none !important; }` so we also need the `!important` here to be able to override the default hidden behavior on the sphinx rendered scikit-learn.org. See: https://github.com/scikit-learn/scikit-learn/issues/21755 */display: inline-block !important;position: relative;}#sk-container-id-3 div.sk-text-repr-fallback {display: none;}</style><div id=\"sk-container-id-3\" class=\"sk-top-container\"><div class=\"sk-text-repr-fallback\"><pre>RandomForestClassifier()</pre><b>In a Jupyter environment, please rerun this cell to show the HTML representation or trust the notebook. <br />On GitHub, the HTML representation is unable to render, please try loading this page with nbviewer.org.</b></div><div class=\"sk-container\" hidden><div class=\"sk-item\"><div class=\"sk-estimator sk-toggleable\"><input class=\"sk-toggleable__control sk-hidden--visually\" id=\"sk-estimator-id-3\" type=\"checkbox\" checked><label for=\"sk-estimator-id-3\" class=\"sk-toggleable__label sk-toggleable__label-arrow\">RandomForestClassifier</label><div class=\"sk-toggleable__content\"><pre>RandomForestClassifier()</pre></div></div></div></div></div>"
            ]
          },
          "metadata": {},
          "execution_count": 19
        }
      ],
      "source": [
        "model3.fit(X1_train, y1_train)"
      ]
    },
    {
      "cell_type": "code",
      "execution_count": null,
      "metadata": {
        "id": "JhsWV2gBYEHQ"
      },
      "outputs": [],
      "source": [
        "y_pred3 = model3.predict(X1_test)"
      ]
    },
    {
      "cell_type": "code",
      "execution_count": null,
      "metadata": {
        "colab": {
          "base_uri": "https://localhost:8080/"
        },
        "id": "8kiE_ExSbZOw",
        "outputId": "e505a37a-fb89-4c14-c731-c8764f8fd8c7"
      },
      "outputs": [
        {
          "output_type": "execute_result",
          "data": {
            "text/plain": [
              "0.9464933287718098"
            ]
          },
          "metadata": {},
          "execution_count": 21
        }
      ],
      "source": [
        "accuracy3 = accuracy_score(y1_test, y_pred3)\n",
        "accuracy3"
      ]
    },
    {
      "cell_type": "code",
      "source": [
        "precision = precision_score(y1_test, y_pred3)\n",
        "recall = recall_score(y1_test, y_pred3)\n",
        "f1 = f1_score(y1_test, y_pred3)\n",
        "conf_matrix3 = confusion_matrix(y1_test, y_pred3)\n",
        "print(\"Accuracy: \",accuracy3)\n",
        "print(f\"Precision: \",precision)\n",
        "print(f\"Recall: \",recall)\n",
        "print(f\"F1-Score: \",f1)"
      ],
      "metadata": {
        "colab": {
          "base_uri": "https://localhost:8080/"
        },
        "id": "WU4x2epbOM5K",
        "outputId": "c3ead5ea-7c5e-49e8-c6bd-067be2d84345"
      },
      "execution_count": null,
      "outputs": [
        {
          "output_type": "stream",
          "name": "stdout",
          "text": [
            "Accuracy:  0.9464933287718098\n",
            "Precision:  0.9639433395335527\n",
            "Recall:  0.9270675657079951\n",
            "F1-Score:  0.9451459034792369\n"
          ]
        }
      ]
    },
    {
      "cell_type": "markdown",
      "metadata": {
        "id": "yLCh6hlr3-Kg"
      },
      "source": [
        "### Using Support vector classifier"
      ]
    },
    {
      "cell_type": "code",
      "execution_count": null,
      "metadata": {
        "id": "VcY3nHnSbZLd"
      },
      "outputs": [],
      "source": [
        "model4=SVC()"
      ]
    },
    {
      "cell_type": "code",
      "execution_count": null,
      "metadata": {
        "colab": {
          "base_uri": "https://localhost:8080/",
          "height": 74
        },
        "id": "IJihqGTdUBaG",
        "outputId": "a53f124d-ee8c-461c-8f0f-564b4b11c57d"
      },
      "outputs": [
        {
          "output_type": "execute_result",
          "data": {
            "text/plain": [
              "SVC()"
            ],
            "text/html": [
              "<style>#sk-container-id-4 {color: black;background-color: white;}#sk-container-id-4 pre{padding: 0;}#sk-container-id-4 div.sk-toggleable {background-color: white;}#sk-container-id-4 label.sk-toggleable__label {cursor: pointer;display: block;width: 100%;margin-bottom: 0;padding: 0.3em;box-sizing: border-box;text-align: center;}#sk-container-id-4 label.sk-toggleable__label-arrow:before {content: \"▸\";float: left;margin-right: 0.25em;color: #696969;}#sk-container-id-4 label.sk-toggleable__label-arrow:hover:before {color: black;}#sk-container-id-4 div.sk-estimator:hover label.sk-toggleable__label-arrow:before {color: black;}#sk-container-id-4 div.sk-toggleable__content {max-height: 0;max-width: 0;overflow: hidden;text-align: left;background-color: #f0f8ff;}#sk-container-id-4 div.sk-toggleable__content pre {margin: 0.2em;color: black;border-radius: 0.25em;background-color: #f0f8ff;}#sk-container-id-4 input.sk-toggleable__control:checked~div.sk-toggleable__content {max-height: 200px;max-width: 100%;overflow: auto;}#sk-container-id-4 input.sk-toggleable__control:checked~label.sk-toggleable__label-arrow:before {content: \"▾\";}#sk-container-id-4 div.sk-estimator input.sk-toggleable__control:checked~label.sk-toggleable__label {background-color: #d4ebff;}#sk-container-id-4 div.sk-label input.sk-toggleable__control:checked~label.sk-toggleable__label {background-color: #d4ebff;}#sk-container-id-4 input.sk-hidden--visually {border: 0;clip: rect(1px 1px 1px 1px);clip: rect(1px, 1px, 1px, 1px);height: 1px;margin: -1px;overflow: hidden;padding: 0;position: absolute;width: 1px;}#sk-container-id-4 div.sk-estimator {font-family: monospace;background-color: #f0f8ff;border: 1px dotted black;border-radius: 0.25em;box-sizing: border-box;margin-bottom: 0.5em;}#sk-container-id-4 div.sk-estimator:hover {background-color: #d4ebff;}#sk-container-id-4 div.sk-parallel-item::after {content: \"\";width: 100%;border-bottom: 1px solid gray;flex-grow: 1;}#sk-container-id-4 div.sk-label:hover label.sk-toggleable__label {background-color: #d4ebff;}#sk-container-id-4 div.sk-serial::before {content: \"\";position: absolute;border-left: 1px solid gray;box-sizing: border-box;top: 0;bottom: 0;left: 50%;z-index: 0;}#sk-container-id-4 div.sk-serial {display: flex;flex-direction: column;align-items: center;background-color: white;padding-right: 0.2em;padding-left: 0.2em;position: relative;}#sk-container-id-4 div.sk-item {position: relative;z-index: 1;}#sk-container-id-4 div.sk-parallel {display: flex;align-items: stretch;justify-content: center;background-color: white;position: relative;}#sk-container-id-4 div.sk-item::before, #sk-container-id-4 div.sk-parallel-item::before {content: \"\";position: absolute;border-left: 1px solid gray;box-sizing: border-box;top: 0;bottom: 0;left: 50%;z-index: -1;}#sk-container-id-4 div.sk-parallel-item {display: flex;flex-direction: column;z-index: 1;position: relative;background-color: white;}#sk-container-id-4 div.sk-parallel-item:first-child::after {align-self: flex-end;width: 50%;}#sk-container-id-4 div.sk-parallel-item:last-child::after {align-self: flex-start;width: 50%;}#sk-container-id-4 div.sk-parallel-item:only-child::after {width: 0;}#sk-container-id-4 div.sk-dashed-wrapped {border: 1px dashed gray;margin: 0 0.4em 0.5em 0.4em;box-sizing: border-box;padding-bottom: 0.4em;background-color: white;}#sk-container-id-4 div.sk-label label {font-family: monospace;font-weight: bold;display: inline-block;line-height: 1.2em;}#sk-container-id-4 div.sk-label-container {text-align: center;}#sk-container-id-4 div.sk-container {/* jupyter's `normalize.less` sets `[hidden] { display: none; }` but bootstrap.min.css set `[hidden] { display: none !important; }` so we also need the `!important` here to be able to override the default hidden behavior on the sphinx rendered scikit-learn.org. See: https://github.com/scikit-learn/scikit-learn/issues/21755 */display: inline-block !important;position: relative;}#sk-container-id-4 div.sk-text-repr-fallback {display: none;}</style><div id=\"sk-container-id-4\" class=\"sk-top-container\"><div class=\"sk-text-repr-fallback\"><pre>SVC()</pre><b>In a Jupyter environment, please rerun this cell to show the HTML representation or trust the notebook. <br />On GitHub, the HTML representation is unable to render, please try loading this page with nbviewer.org.</b></div><div class=\"sk-container\" hidden><div class=\"sk-item\"><div class=\"sk-estimator sk-toggleable\"><input class=\"sk-toggleable__control sk-hidden--visually\" id=\"sk-estimator-id-4\" type=\"checkbox\" checked><label for=\"sk-estimator-id-4\" class=\"sk-toggleable__label sk-toggleable__label-arrow\">SVC</label><div class=\"sk-toggleable__content\"><pre>SVC()</pre></div></div></div></div></div>"
            ]
          },
          "metadata": {},
          "execution_count": 24
        }
      ],
      "source": [
        "model4.fit(X_train, y1_train)"
      ]
    },
    {
      "cell_type": "code",
      "execution_count": null,
      "metadata": {
        "id": "9Lwo9g6fYIO1"
      },
      "outputs": [],
      "source": [
        "y_pred4 = model4.predict(X_test)"
      ]
    },
    {
      "cell_type": "code",
      "execution_count": null,
      "metadata": {
        "colab": {
          "base_uri": "https://localhost:8080/"
        },
        "id": "54jU9XKmbYsg",
        "outputId": "1803de05-191a-4662-85f7-6c3994b0522f"
      },
      "outputs": [
        {
          "output_type": "execute_result",
          "data": {
            "text/plain": [
              "0.9437564146424906"
            ]
          },
          "metadata": {},
          "execution_count": 26
        }
      ],
      "source": [
        "accuracy4 = accuracy_score(y1_test, y_pred4)\n",
        "accuracy4"
      ]
    },
    {
      "cell_type": "code",
      "source": [
        "precision = precision_score(y1_test, y_pred4)\n",
        "recall = recall_score(y1_test, y_pred4)\n",
        "f1 = f1_score(y1_test, y_pred4)\n",
        "conf_matrix = confusion_matrix(y1_test, y_pred4)\n",
        "print(\"Accuracy: \",accuracy4)\n",
        "print(f\"Precision: \",precision)\n",
        "print(f\"Recall: \",recall)\n",
        "print(f\"F1-Score: \",f1)"
      ],
      "metadata": {
        "colab": {
          "base_uri": "https://localhost:8080/"
        },
        "id": "zfijMNaSOO8F",
        "outputId": "441aec8a-c81c-47f2-f08a-5b9c9287c865"
      },
      "execution_count": null,
      "outputs": [
        {
          "output_type": "stream",
          "name": "stdout",
          "text": [
            "Accuracy:  0.9437564146424906\n",
            "Precision:  0.9755053858639516\n",
            "Recall:  0.9097289115178203\n",
            "F1-Score:  0.9414696667616064\n"
          ]
        }
      ]
    },
    {
      "cell_type": "markdown",
      "source": [
        "### SVM using Linear Kernal"
      ],
      "metadata": {
        "id": "cQENrLDfQLmp"
      }
    },
    {
      "cell_type": "code",
      "source": [
        "sample_size = 2000  # Number of samples to select\n",
        "dfs = df.sample(n=sample_size)\n",
        "X = dfs.drop('y', axis=1)\n",
        "y = dfs['y']\n",
        "Xs_train, Xs_test, ys_train, ys_test = train_test_split(X, y, test_size=0.2, random_state=42)"
      ],
      "metadata": {
        "id": "kboPH2JoPJ8K"
      },
      "execution_count": null,
      "outputs": []
    },
    {
      "cell_type": "code",
      "execution_count": null,
      "metadata": {
        "id": "Y6jvbJt3Ui0P"
      },
      "outputs": [],
      "source": [
        "model41=SVC(kernel='linear')"
      ]
    },
    {
      "cell_type": "code",
      "execution_count": null,
      "metadata": {
        "colab": {
          "base_uri": "https://localhost:8080/",
          "height": 74
        },
        "id": "03fXAgA2UHMY",
        "outputId": "95606862-c2a2-429d-b851-c8f057304c81"
      },
      "outputs": [
        {
          "output_type": "execute_result",
          "data": {
            "text/plain": [
              "SVC(kernel='linear')"
            ],
            "text/html": [
              "<style>#sk-container-id-5 {color: black;background-color: white;}#sk-container-id-5 pre{padding: 0;}#sk-container-id-5 div.sk-toggleable {background-color: white;}#sk-container-id-5 label.sk-toggleable__label {cursor: pointer;display: block;width: 100%;margin-bottom: 0;padding: 0.3em;box-sizing: border-box;text-align: center;}#sk-container-id-5 label.sk-toggleable__label-arrow:before {content: \"▸\";float: left;margin-right: 0.25em;color: #696969;}#sk-container-id-5 label.sk-toggleable__label-arrow:hover:before {color: black;}#sk-container-id-5 div.sk-estimator:hover label.sk-toggleable__label-arrow:before {color: black;}#sk-container-id-5 div.sk-toggleable__content {max-height: 0;max-width: 0;overflow: hidden;text-align: left;background-color: #f0f8ff;}#sk-container-id-5 div.sk-toggleable__content pre {margin: 0.2em;color: black;border-radius: 0.25em;background-color: #f0f8ff;}#sk-container-id-5 input.sk-toggleable__control:checked~div.sk-toggleable__content {max-height: 200px;max-width: 100%;overflow: auto;}#sk-container-id-5 input.sk-toggleable__control:checked~label.sk-toggleable__label-arrow:before {content: \"▾\";}#sk-container-id-5 div.sk-estimator input.sk-toggleable__control:checked~label.sk-toggleable__label {background-color: #d4ebff;}#sk-container-id-5 div.sk-label input.sk-toggleable__control:checked~label.sk-toggleable__label {background-color: #d4ebff;}#sk-container-id-5 input.sk-hidden--visually {border: 0;clip: rect(1px 1px 1px 1px);clip: rect(1px, 1px, 1px, 1px);height: 1px;margin: -1px;overflow: hidden;padding: 0;position: absolute;width: 1px;}#sk-container-id-5 div.sk-estimator {font-family: monospace;background-color: #f0f8ff;border: 1px dotted black;border-radius: 0.25em;box-sizing: border-box;margin-bottom: 0.5em;}#sk-container-id-5 div.sk-estimator:hover {background-color: #d4ebff;}#sk-container-id-5 div.sk-parallel-item::after {content: \"\";width: 100%;border-bottom: 1px solid gray;flex-grow: 1;}#sk-container-id-5 div.sk-label:hover label.sk-toggleable__label {background-color: #d4ebff;}#sk-container-id-5 div.sk-serial::before {content: \"\";position: absolute;border-left: 1px solid gray;box-sizing: border-box;top: 0;bottom: 0;left: 50%;z-index: 0;}#sk-container-id-5 div.sk-serial {display: flex;flex-direction: column;align-items: center;background-color: white;padding-right: 0.2em;padding-left: 0.2em;position: relative;}#sk-container-id-5 div.sk-item {position: relative;z-index: 1;}#sk-container-id-5 div.sk-parallel {display: flex;align-items: stretch;justify-content: center;background-color: white;position: relative;}#sk-container-id-5 div.sk-item::before, #sk-container-id-5 div.sk-parallel-item::before {content: \"\";position: absolute;border-left: 1px solid gray;box-sizing: border-box;top: 0;bottom: 0;left: 50%;z-index: -1;}#sk-container-id-5 div.sk-parallel-item {display: flex;flex-direction: column;z-index: 1;position: relative;background-color: white;}#sk-container-id-5 div.sk-parallel-item:first-child::after {align-self: flex-end;width: 50%;}#sk-container-id-5 div.sk-parallel-item:last-child::after {align-self: flex-start;width: 50%;}#sk-container-id-5 div.sk-parallel-item:only-child::after {width: 0;}#sk-container-id-5 div.sk-dashed-wrapped {border: 1px dashed gray;margin: 0 0.4em 0.5em 0.4em;box-sizing: border-box;padding-bottom: 0.4em;background-color: white;}#sk-container-id-5 div.sk-label label {font-family: monospace;font-weight: bold;display: inline-block;line-height: 1.2em;}#sk-container-id-5 div.sk-label-container {text-align: center;}#sk-container-id-5 div.sk-container {/* jupyter's `normalize.less` sets `[hidden] { display: none; }` but bootstrap.min.css set `[hidden] { display: none !important; }` so we also need the `!important` here to be able to override the default hidden behavior on the sphinx rendered scikit-learn.org. See: https://github.com/scikit-learn/scikit-learn/issues/21755 */display: inline-block !important;position: relative;}#sk-container-id-5 div.sk-text-repr-fallback {display: none;}</style><div id=\"sk-container-id-5\" class=\"sk-top-container\"><div class=\"sk-text-repr-fallback\"><pre>SVC(kernel=&#x27;linear&#x27;)</pre><b>In a Jupyter environment, please rerun this cell to show the HTML representation or trust the notebook. <br />On GitHub, the HTML representation is unable to render, please try loading this page with nbviewer.org.</b></div><div class=\"sk-container\" hidden><div class=\"sk-item\"><div class=\"sk-estimator sk-toggleable\"><input class=\"sk-toggleable__control sk-hidden--visually\" id=\"sk-estimator-id-5\" type=\"checkbox\" checked><label for=\"sk-estimator-id-5\" class=\"sk-toggleable__label sk-toggleable__label-arrow\">SVC</label><div class=\"sk-toggleable__content\"><pre>SVC(kernel=&#x27;linear&#x27;)</pre></div></div></div></div></div>"
            ]
          },
          "metadata": {},
          "execution_count": 30
        }
      ],
      "source": [
        "model41.fit(Xs_train, ys_train)"
      ]
    },
    {
      "cell_type": "code",
      "execution_count": null,
      "metadata": {
        "id": "dmGddvVdYNHq"
      },
      "outputs": [],
      "source": [
        "y_pred41 = model41.predict(Xs_test)"
      ]
    },
    {
      "cell_type": "code",
      "execution_count": null,
      "metadata": {
        "colab": {
          "base_uri": "https://localhost:8080/"
        },
        "id": "NKmp2ou_7fdH",
        "outputId": "badba740-e54c-4d64-ed76-c9fa8dd8257e"
      },
      "outputs": [
        {
          "output_type": "execute_result",
          "data": {
            "text/plain": [
              "0.945"
            ]
          },
          "metadata": {},
          "execution_count": 32
        }
      ],
      "source": [
        "accuracy41 = accuracy_score(ys_test, y_pred41)\n",
        "accuracy41"
      ]
    },
    {
      "cell_type": "code",
      "source": [
        "precision = precision_score(ys_test, y_pred41)\n",
        "recall = recall_score(ys_test, y_pred41)\n",
        "f1 = f1_score(ys_test, y_pred41)\n",
        "conf_matrix41 = confusion_matrix(ys_test, y_pred41)\n",
        "print(\"Accuracy: \",accuracy41)\n",
        "print(f\"Precision: \",precision)\n",
        "print(f\"Recall: \",recall)\n",
        "print(f\"F1-Score: \",f1)"
      ],
      "metadata": {
        "colab": {
          "base_uri": "https://localhost:8080/"
        },
        "id": "zoYL8LRVOQ3y",
        "outputId": "cabd392c-15a9-4e1b-e770-fbe49c784592"
      },
      "execution_count": null,
      "outputs": [
        {
          "output_type": "stream",
          "name": "stdout",
          "text": [
            "Accuracy:  0.945\n",
            "Precision:  0.96875\n",
            "Recall:  0.9207920792079208\n",
            "F1-Score:  0.9441624365482234\n"
          ]
        }
      ]
    },
    {
      "cell_type": "markdown",
      "source": [
        "### Decision Tree"
      ],
      "metadata": {
        "id": "Eq_0nx00OYBX"
      }
    },
    {
      "cell_type": "code",
      "execution_count": null,
      "metadata": {
        "id": "aDm59Yt15dDx"
      },
      "outputs": [],
      "source": [
        "model6=DecisionTreeClassifier()"
      ]
    },
    {
      "cell_type": "code",
      "execution_count": null,
      "metadata": {
        "id": "jxeejiJsUPOL",
        "colab": {
          "base_uri": "https://localhost:8080/",
          "height": 74
        },
        "outputId": "9a568b31-df73-4273-b229-e53be55922ec"
      },
      "outputs": [
        {
          "output_type": "execute_result",
          "data": {
            "text/plain": [
              "DecisionTreeClassifier()"
            ],
            "text/html": [
              "<style>#sk-container-id-6 {color: black;background-color: white;}#sk-container-id-6 pre{padding: 0;}#sk-container-id-6 div.sk-toggleable {background-color: white;}#sk-container-id-6 label.sk-toggleable__label {cursor: pointer;display: block;width: 100%;margin-bottom: 0;padding: 0.3em;box-sizing: border-box;text-align: center;}#sk-container-id-6 label.sk-toggleable__label-arrow:before {content: \"▸\";float: left;margin-right: 0.25em;color: #696969;}#sk-container-id-6 label.sk-toggleable__label-arrow:hover:before {color: black;}#sk-container-id-6 div.sk-estimator:hover label.sk-toggleable__label-arrow:before {color: black;}#sk-container-id-6 div.sk-toggleable__content {max-height: 0;max-width: 0;overflow: hidden;text-align: left;background-color: #f0f8ff;}#sk-container-id-6 div.sk-toggleable__content pre {margin: 0.2em;color: black;border-radius: 0.25em;background-color: #f0f8ff;}#sk-container-id-6 input.sk-toggleable__control:checked~div.sk-toggleable__content {max-height: 200px;max-width: 100%;overflow: auto;}#sk-container-id-6 input.sk-toggleable__control:checked~label.sk-toggleable__label-arrow:before {content: \"▾\";}#sk-container-id-6 div.sk-estimator input.sk-toggleable__control:checked~label.sk-toggleable__label {background-color: #d4ebff;}#sk-container-id-6 div.sk-label input.sk-toggleable__control:checked~label.sk-toggleable__label {background-color: #d4ebff;}#sk-container-id-6 input.sk-hidden--visually {border: 0;clip: rect(1px 1px 1px 1px);clip: rect(1px, 1px, 1px, 1px);height: 1px;margin: -1px;overflow: hidden;padding: 0;position: absolute;width: 1px;}#sk-container-id-6 div.sk-estimator {font-family: monospace;background-color: #f0f8ff;border: 1px dotted black;border-radius: 0.25em;box-sizing: border-box;margin-bottom: 0.5em;}#sk-container-id-6 div.sk-estimator:hover {background-color: #d4ebff;}#sk-container-id-6 div.sk-parallel-item::after {content: \"\";width: 100%;border-bottom: 1px solid gray;flex-grow: 1;}#sk-container-id-6 div.sk-label:hover label.sk-toggleable__label {background-color: #d4ebff;}#sk-container-id-6 div.sk-serial::before {content: \"\";position: absolute;border-left: 1px solid gray;box-sizing: border-box;top: 0;bottom: 0;left: 50%;z-index: 0;}#sk-container-id-6 div.sk-serial {display: flex;flex-direction: column;align-items: center;background-color: white;padding-right: 0.2em;padding-left: 0.2em;position: relative;}#sk-container-id-6 div.sk-item {position: relative;z-index: 1;}#sk-container-id-6 div.sk-parallel {display: flex;align-items: stretch;justify-content: center;background-color: white;position: relative;}#sk-container-id-6 div.sk-item::before, #sk-container-id-6 div.sk-parallel-item::before {content: \"\";position: absolute;border-left: 1px solid gray;box-sizing: border-box;top: 0;bottom: 0;left: 50%;z-index: -1;}#sk-container-id-6 div.sk-parallel-item {display: flex;flex-direction: column;z-index: 1;position: relative;background-color: white;}#sk-container-id-6 div.sk-parallel-item:first-child::after {align-self: flex-end;width: 50%;}#sk-container-id-6 div.sk-parallel-item:last-child::after {align-self: flex-start;width: 50%;}#sk-container-id-6 div.sk-parallel-item:only-child::after {width: 0;}#sk-container-id-6 div.sk-dashed-wrapped {border: 1px dashed gray;margin: 0 0.4em 0.5em 0.4em;box-sizing: border-box;padding-bottom: 0.4em;background-color: white;}#sk-container-id-6 div.sk-label label {font-family: monospace;font-weight: bold;display: inline-block;line-height: 1.2em;}#sk-container-id-6 div.sk-label-container {text-align: center;}#sk-container-id-6 div.sk-container {/* jupyter's `normalize.less` sets `[hidden] { display: none; }` but bootstrap.min.css set `[hidden] { display: none !important; }` so we also need the `!important` here to be able to override the default hidden behavior on the sphinx rendered scikit-learn.org. See: https://github.com/scikit-learn/scikit-learn/issues/21755 */display: inline-block !important;position: relative;}#sk-container-id-6 div.sk-text-repr-fallback {display: none;}</style><div id=\"sk-container-id-6\" class=\"sk-top-container\"><div class=\"sk-text-repr-fallback\"><pre>DecisionTreeClassifier()</pre><b>In a Jupyter environment, please rerun this cell to show the HTML representation or trust the notebook. <br />On GitHub, the HTML representation is unable to render, please try loading this page with nbviewer.org.</b></div><div class=\"sk-container\" hidden><div class=\"sk-item\"><div class=\"sk-estimator sk-toggleable\"><input class=\"sk-toggleable__control sk-hidden--visually\" id=\"sk-estimator-id-6\" type=\"checkbox\" checked><label for=\"sk-estimator-id-6\" class=\"sk-toggleable__label sk-toggleable__label-arrow\">DecisionTreeClassifier</label><div class=\"sk-toggleable__content\"><pre>DecisionTreeClassifier()</pre></div></div></div></div></div>"
            ]
          },
          "metadata": {},
          "execution_count": 35
        }
      ],
      "source": [
        "model6.fit(X1_train, y1_train)"
      ]
    },
    {
      "cell_type": "code",
      "execution_count": null,
      "metadata": {
        "id": "XTdLEzhyYebE"
      },
      "outputs": [],
      "source": [
        "y_pred6 = model6.predict(X1_test)"
      ]
    },
    {
      "cell_type": "code",
      "execution_count": null,
      "metadata": {
        "id": "PNr2UnCQ53qP",
        "colab": {
          "base_uri": "https://localhost:8080/"
        },
        "outputId": "a77338f7-c583-4edb-abb0-fed95fe3acbf"
      },
      "outputs": [
        {
          "output_type": "execute_result",
          "data": {
            "text/plain": [
              "0.9350667122819022"
            ]
          },
          "metadata": {},
          "execution_count": 37
        }
      ],
      "source": [
        "accuracy6 = accuracy_score(y1_test, y_pred6)\n",
        "accuracy6"
      ]
    },
    {
      "cell_type": "code",
      "source": [
        "precision = precision_score(y1_test, y_pred6)\n",
        "recall = recall_score(y1_test, y_pred6)\n",
        "f1 = f1_score(y1_test, y_pred6)\n",
        "conf_matrix = confusion_matrix(y1_test, y_pred6)\n",
        "print(\"Accuracy: \",accuracy6)\n",
        "print(f\"Precision: \",precision)\n",
        "print(f\"Recall: \",recall)\n",
        "print(f\"F1-Score: \",f1)"
      ],
      "metadata": {
        "colab": {
          "base_uri": "https://localhost:8080/"
        },
        "id": "OUxx7MpAOUi-",
        "outputId": "c822aadf-7d55-464e-e705-d04f78640d36"
      },
      "execution_count": null,
      "outputs": [
        {
          "output_type": "stream",
          "name": "stdout",
          "text": [
            "Accuracy:  0.9350667122819022\n",
            "Precision:  0.9360850358917725\n",
            "Recall:  0.9331223338378973\n",
            "F1-Score:  0.9346013369168217\n"
          ]
        }
      ]
    },
    {
      "cell_type": "code",
      "source": [
        "import matplotlib.pyplot as plt\n",
        "datadf={\"logistic regression\":accuracy1,\"knn\":accuracy2,\"random forest\":accuracy3,\"svc using RBF\":accuracy4,\"SVM using Linear\":accuracy41,\"Decision Tree\":accuracy6}\n",
        "\n",
        "categories = list(datadf.keys())\n",
        "values1 = list(datadf.values())\n",
        "values = [round(value, 4) for value in values1]\n",
        "plt.figure(figsize=(8, 6))\n",
        "bars = plt.bar(categories, values,)\n",
        "# Adding value labels on top of each bar\n",
        "for bar in bars:\n",
        "    plt.text(bar.get_x() + bar.get_width() / 2, bar.get_height(), str(bar.get_height()), ha='center', va='bottom')\n",
        "\n",
        "plt.xlabel('Categories')\n",
        "plt.ylabel('Values')\n",
        "plt.title('Model Performance Comparison')\n",
        "plt.tight_layout()\n",
        "plt.show()\n"
      ],
      "metadata": {
        "colab": {
          "base_uri": "https://localhost:8080/",
          "height": 607
        },
        "id": "-uaZng_yaML7",
        "outputId": "c0281493-46ce-4e70-b9e3-7f570e46b2a3"
      },
      "execution_count": null,
      "outputs": [
        {
          "output_type": "display_data",
          "data": {
            "text/plain": [
              "<Figure size 800x600 with 1 Axes>"
            ],
            "image/png": "[encoded data removed]"
          },
          "metadata": {}
        }
      ]
    },
    {
      "cell_type": "code",
      "source": [
        "from sklearn.metrics import precision_recall_curve\n",
        "import matplotlib.pyplot as plt\n",
        "\n",
        "precision1, recall1, _ = precision_recall_curve(y1_test, y_pred1)\n",
        "precision2, recall2, _ = precision_recall_curve(y1_test, y_pred2)\n",
        "precision3, recall3, _ = precision_recall_curve(y1_test, y_pred3)\n",
        "precision4, recall4, _ = precision_recall_curve(y1_test, y_pred4)\n",
        "precision41, recall41, _ = precision_recall_curve(ys_test, y_pred41)\n",
        "precision6, recall6, _ = precision_recall_curve(y1_test, y_pred6)\n",
        "\n",
        "\n",
        "plt.figure(figsize=(12, 10))\n",
        "\n",
        "plt.subplot(3, 2, 1)\n",
        "plt.plot(recall1, precision1, label='Logistic Regression')\n",
        "plt.xlabel('Recall')\n",
        "plt.ylabel('Precision')\n",
        "plt.title('Precision-Recall Curve - Logistic Regression')\n",
        "plt.legend()\n",
        "\n",
        "plt.subplot(3, 2, 2)\n",
        "plt.plot(recall2, precision2, label='KNN')\n",
        "plt.xlabel('Recall')\n",
        "plt.ylabel('Precision')\n",
        "plt.title('Precision-Recall Curve - KNN')\n",
        "plt.legend()\n",
        "\n",
        "plt.subplot(3, 2, 3)\n",
        "plt.plot(recall3, precision3, label='Random Forest')\n",
        "plt.xlabel('Recall')\n",
        "plt.ylabel('Precision')\n",
        "plt.title('Precision-Recall Curve - Random Forest')\n",
        "plt.legend()\n",
        "\n",
        "plt.subplot(3, 2, 4)\n",
        "plt.plot(recall4, precision4, label='SVM with RBF')\n",
        "plt.xlabel('Recall')\n",
        "plt.ylabel('Precision')\n",
        "plt.title('Precision-Recall Curve - SVM with RBF')\n",
        "plt.legend()\n",
        "\n",
        "plt.subplot(3, 2, 5)\n",
        "plt.plot(recall41, precision41, label='SVM with Linear')\n",
        "plt.xlabel('Recall')\n",
        "plt.ylabel('Precision')\n",
        "plt.title('Precision-Recall Curve - SVM with Linear')\n",
        "plt.legend()\n",
        "\n",
        "plt.subplot(3, 2, 6)\n",
        "plt.plot(recall6, precision6, label='Decision Tree')\n",
        "plt.xlabel('Recall')\n",
        "plt.ylabel('Precision')\n",
        "plt.title('Precision-Recall Curve - Decision Tree')\n",
        "plt.legend()\n",
        "\n",
        "plt.tight_layout()\n",
        "plt.show()\n"
      ],
      "metadata": {
        "colab": {
          "base_uri": "https://localhost:8080/",
          "height": 1000
        },
        "id": "fnqR4rfLdyY4",
        "outputId": "3fd8af94-46c5-4264-a747-8dfa6368bfcc"
      },
      "execution_count": null,
      "outputs": [
        {
          "output_type": "display_data",
          "data": {
            "text/plain": [
              "<Figure size 1200x1000 with 6 Axes>"
            ],
            "image/png": "[encoded data removed]"
          },
          "metadata": {}
        }
      ]
    },
    {
      "cell_type": "code",
      "execution_count": null,
      "metadata": {
        "id": "dZT8UoBsVq71",
        "colab": {
          "base_uri": "https://localhost:8080/",
          "height": 407
        },
        "outputId": "0ff0e1e0-92cf-469d-ab0e-91a16ba68bce"
      },
      "outputs": [
        {
          "output_type": "display_data",
          "data": {
            "text/plain": [
              "<Figure size 1000x400 with 12 Axes>"
            ],
            "image/png": "[encoded data removed]"
          },
          "metadata": {}
        }
      ],
      "source": [
        "from sklearn.metrics import confusion_matrix\n",
        "import seaborn as sns\n",
        "\n",
        "# Assuming y_pred1 and y_pred2 are predictions from model1 and model2 respectively\n",
        "conf_matrix1 = confusion_matrix(y1_test, y_pred1)\n",
        "conf_matrix2 = confusion_matrix(y1_test, y_pred2)\n",
        "conf_matrix3 = confusion_matrix(y1_test, y_pred3)\n",
        "conf_matrix4 = confusion_matrix(y1_test, y_pred4)\n",
        "conf_matrix41 = confusion_matrix(ys_test, y_pred41)\n",
        "conf_matrix6 = confusion_matrix(y1_test, y_pred6)\n",
        "plt.figure(figsize=(10, 4))\n",
        "\n",
        "plt.subplot(3, 2, 1)\n",
        "sns.heatmap(conf_matrix1, annot=True, fmt='d', cmap='Blues')\n",
        "plt.title('Confusion Matrix - Logistic regression')\n",
        "\n",
        "plt.subplot(3, 2, 2)\n",
        "sns.heatmap(conf_matrix2, annot=True, fmt='d', cmap='Blues')\n",
        "plt.title('Confusion Matrix - knn')\n",
        "\n",
        "\n",
        "plt.subplot(3, 2, 3)\n",
        "sns.heatmap(conf_matrix3, annot=True, fmt='d', cmap='Blues')\n",
        "plt.title('Confusion Matrix - Random Forest')\n",
        "\n",
        "\n",
        "plt.subplot(3, 2, 4)\n",
        "sns.heatmap(conf_matrix4, annot=True, fmt='d', cmap='Blues')\n",
        "plt.title('Confusion Matrix - SVM with RBF')\n",
        "\n",
        "\n",
        "plt.subplot(3, 2, 5)\n",
        "sns.heatmap(conf_matrix41, annot=True, fmt='d', cmap='Blues')\n",
        "plt.title('Confusion Matrix - SVN linear')\n",
        "\n",
        "\n",
        "plt.subplot(3, 2, 6)\n",
        "sns.heatmap(conf_matrix6, annot=True, fmt='d', cmap='Blues')\n",
        "plt.title('Confusion Matrix - Decision Tree')\n",
        "\n",
        "plt.tight_layout()\n",
        "plt.show()\n"
      ]
    },
    {
      "cell_type": "markdown",
      "source": [
        "### using hyperparameters"
      ],
      "metadata": {
        "id": "dDd_gNs3-tor"
      }
    },
    {
      "cell_type": "code",
      "source": [
        "from sklearn.model_selection import GridSearchCV"
      ],
      "metadata": {
        "id": "7lBZ-P8G_Itr"
      },
      "execution_count": null,
      "outputs": []
    },
    {
      "cell_type": "code",
      "source": [
        "model1=LogisticRegression(max_iter=1000)"
      ],
      "metadata": {
        "id": "piAwCne9-2uZ"
      },
      "execution_count": null,
      "outputs": []
    },
    {
      "cell_type": "code",
      "source": [
        "param_grid = {'C': [0.01, 0.1, 1, 10], 'penalty': ['l2'], 'solver': ['liblinear']}\n",
        "# Create logistic regression model\n",
        "model1 = LogisticRegression()\n",
        "# Create GridSearchCV instance\n",
        "grid_search = GridSearchCV(model1, param_grid, cv=5, verbose=2, error_score='raise')\n",
        "# Fit the GridSearchCV to find the best parameters\n",
        "grid_search.fit(X_train, y1_train)\n",
        "# Get the best parameters and the best estimator\n",
        "best_params = grid_search.best_params_\n",
        "best_estimator = grid_search.best_estimator_\n",
        "# Evaluate the best model\n",
        "accuracy = best_estimator.score(X_test, y1_test)\n",
        "print(f\"Best Parameters: {best_params}\")\n",
        "print(f\"Best Model's Accuracy: {accuracy}\")"
      ],
      "metadata": {
        "colab": {
          "base_uri": "https://localhost:8080/"
        },
        "id": "inMYrTmJA_j5",
        "outputId": "5cebdd4f-5833-4c34-f419-7305d985f033"
      },
      "execution_count": null,
      "outputs": [
        {
          "output_type": "stream",
          "name": "stdout",
          "text": [
            "Fitting 5 folds for each of 4 candidates, totalling 20 fits\n",
            "[CV] END ...............C=0.01, penalty=l2, solver=liblinear; total time=   0.6s\n",
            "[CV] END ...............C=0.01, penalty=l2, solver=liblinear; total time=   0.7s\n",
            "[CV] END ...............C=0.01, penalty=l2, solver=liblinear; total time=   0.6s\n",
            "[CV] END ...............C=0.01, penalty=l2, solver=liblinear; total time=   0.7s\n",
            "[CV] END ...............C=0.01, penalty=l2, solver=liblinear; total time=   0.6s\n",
            "[CV] END ................C=0.1, penalty=l2, solver=liblinear; total time=   1.2s\n",
            "[CV] END ................C=0.1, penalty=l2, solver=liblinear; total time=   1.1s\n",
            "[CV] END ................C=0.1, penalty=l2, solver=liblinear; total time=   1.2s\n",
            "[CV] END ................C=0.1, penalty=l2, solver=liblinear; total time=   1.2s\n",
            "[CV] END ................C=0.1, penalty=l2, solver=liblinear; total time=   1.0s\n",
            "[CV] END ..................C=1, penalty=l2, solver=liblinear; total time=   1.0s\n",
            "[CV] END ..................C=1, penalty=l2, solver=liblinear; total time=   1.1s\n",
            "[CV] END ..................C=1, penalty=l2, solver=liblinear; total time=   1.0s\n",
            "[CV] END ..................C=1, penalty=l2, solver=liblinear; total time=   1.0s\n",
            "[CV] END ..................C=1, penalty=l2, solver=liblinear; total time=   1.1s\n",
            "[CV] END .................C=10, penalty=l2, solver=liblinear; total time=   1.0s\n",
            "[CV] END .................C=10, penalty=l2, solver=liblinear; total time=   1.1s\n",
            "[CV] END .................C=10, penalty=l2, solver=liblinear; total time=   1.0s\n",
            "[CV] END .................C=10, penalty=l2, solver=liblinear; total time=   1.1s\n",
            "[CV] END .................C=10, penalty=l2, solver=liblinear; total time=   1.3s\n",
            "Best Parameters: {'C': 0.1, 'penalty': 'l2', 'solver': 'liblinear'}\n",
            "Best Model's Accuracy: 0.9412247690728703\n"
          ]
        }
      ]
    },
    {
      "cell_type": "code",
      "source": [],
      "metadata": {
        "id": "IMu4yaXgMqHY"
      },
      "execution_count": null,
      "outputs": []
    },
    {
      "cell_type": "code",
      "source": [
        "from sklearn.model_selection import GridSearchCV\n",
        "from sklearn.neighbors import KNeighborsClassifier\n",
        "\n",
        "param_grid = {\n",
        "    'n_neighbors': [3, 5, 7],\n",
        "    'weights': ['uniform', 'distance']\n",
        "}\n",
        "\n",
        "# Create KNN classifier\n",
        "knn = KNeighborsClassifier()\n",
        "\n",
        "# Create GridSearchCV instance\n",
        "grid_search = GridSearchCV(knn, param_grid, cv=5, verbose=2)\n",
        "\n",
        "# Fit the GridSearchCV to find the best parameters\n",
        "grid_search.fit(X_train, y1_train)\n",
        "\n",
        "# Get the best parameters and the best estimator\n",
        "best_params = grid_search.best_params_\n",
        "best_estimator = grid_search.best_estimator_\n",
        "\n",
        "# Evaluate the best model\n",
        "accuracy = best_estimator.score(X_test, y1_test)\n",
        "print(f\"Best Parameters: {best_params}\")\n",
        "print(f\"Best Model's Accuracy: {accuracy}\")\n"
      ],
      "metadata": {
        "colab": {
          "base_uri": "https://localhost:8080/"
        },
        "id": "KmN7V1VHDo9u",
        "outputId": "699d8f11-f60a-4061-8a63-979863a07e9a"
      },
      "execution_count": null,
      "outputs": [
        {
          "output_type": "stream",
          "name": "stdout",
          "text": [
            "Fitting 5 folds for each of 6 candidates, totalling 30 fits\n",
            "[CV] END .....................n_neighbors=3, weights=uniform; total time=   4.8s\n",
            "[CV] END .....................n_neighbors=3, weights=uniform; total time=   3.8s\n",
            "[CV] END .....................n_neighbors=3, weights=uniform; total time=   3.8s\n",
            "[CV] END .....................n_neighbors=3, weights=uniform; total time=   6.4s\n",
            "[CV] END .....................n_neighbors=3, weights=uniform; total time=   3.8s\n",
            "[CV] END ....................n_neighbors=3, weights=distance; total time=   3.2s\n",
            "[CV] END ....................n_neighbors=3, weights=distance; total time=   3.8s\n",
            "[CV] END ....................n_neighbors=3, weights=distance; total time=   5.2s\n",
            "[CV] END ....................n_neighbors=3, weights=distance; total time=   3.2s\n",
            "[CV] END ....................n_neighbors=3, weights=distance; total time=   3.2s\n",
            "[CV] END .....................n_neighbors=5, weights=uniform; total time=   4.3s\n",
            "[CV] END .....................n_neighbors=5, weights=uniform; total time=   5.6s\n",
            "[CV] END .....................n_neighbors=5, weights=uniform; total time=   3.8s\n",
            "[CV] END .....................n_neighbors=5, weights=uniform; total time=   3.8s\n",
            "[CV] END .....................n_neighbors=5, weights=uniform; total time=   6.0s\n",
            "[CV] END ....................n_neighbors=5, weights=distance; total time=   3.3s\n",
            "[CV] END ....................n_neighbors=5, weights=distance; total time=   3.2s\n",
            "[CV] END ....................n_neighbors=5, weights=distance; total time=   3.2s\n",
            "[CV] END ....................n_neighbors=5, weights=distance; total time=   5.4s\n",
            "[CV] END ....................n_neighbors=5, weights=distance; total time=   3.5s\n",
            "[CV] END .....................n_neighbors=7, weights=uniform; total time=   3.8s\n",
            "[CV] END .....................n_neighbors=7, weights=uniform; total time=   3.8s\n",
            "[CV] END .....................n_neighbors=7, weights=uniform; total time=   6.2s\n",
            "[CV] END .....................n_neighbors=7, weights=uniform; total time=   3.8s\n",
            "[CV] END .....................n_neighbors=7, weights=uniform; total time=   3.8s\n",
            "[CV] END ....................n_neighbors=7, weights=distance; total time=   4.3s\n",
            "[CV] END ....................n_neighbors=7, weights=distance; total time=   4.7s\n",
            "[CV] END ....................n_neighbors=7, weights=distance; total time=   3.2s\n",
            "[CV] END ....................n_neighbors=7, weights=distance; total time=   3.2s\n",
            "[CV] END ....................n_neighbors=7, weights=distance; total time=   4.1s\n",
            "Best Parameters: {'n_neighbors': 7, 'weights': 'distance'}\n",
            "Best Model's Accuracy: 0.9362983236400958\n"
          ]
        }
      ]
    },
    {
      "cell_type": "code",
      "source": [
        "accuracy = best_estimator.score(X_test, y1_test)\n",
        "print(f\"Best Parameters: {best_params}\")\n",
        "print(f\"Best Model's Accuracy: {accuracy}\")"
      ],
      "metadata": {
        "id": "4spQnW5vLsFx"
      },
      "execution_count": null,
      "outputs": []
    },
    {
      "cell_type": "code",
      "source": [
        "from sklearn.tree import DecisionTreeClassifier\n",
        "\n",
        "# Define hyperparameters to tune\n",
        "param_grid = {'max_depth': [None, 5, 10], 'min_samples_split': [2, 5, 10]}\n",
        "\n",
        "# Create Decision Tree classifier\n",
        "model6 = DecisionTreeClassifier()\n",
        "\n",
        "# Create GridSearchCV instance\n",
        "grid_search = GridSearchCV(model6, param_grid, cv=5, verbose=2)\n",
        "\n",
        "# Fit the GridSearchCV to find the best parameters\n",
        "grid_search.fit(X1_train, y1_train)\n",
        "\n",
        "# Get the best parameters and the best estimator\n",
        "best_params = grid_search.best_params_\n",
        "best_estimator = grid_search.best_estimator_\n",
        "\n",
        "# Evaluate the best model\n",
        "accuracyh = best_estimator.score(X1_test, y1_test)\n",
        "print(f\"Best Parameters: {best_params}\")\n",
        "print(f\"Best Model's Accuracy: {accuracy}\")\n"
      ],
      "metadata": {
        "colab": {
          "base_uri": "https://localhost:8080/"
        },
        "id": "XXpU6pQPDpPb",
        "outputId": "4fbee563-fd58-4c96-d1c7-5ed595d4bdae"
      },
      "execution_count": null,
      "outputs": [
        {
          "output_type": "stream",
          "name": "stdout",
          "text": [
            "Fitting 5 folds for each of 9 candidates, totalling 45 fits\n",
            "[CV] END ................max_depth=None, min_samples_split=2; total time=   0.7s\n",
            "[CV] END ................max_depth=None, min_samples_split=2; total time=   0.6s\n",
            "[CV] END ................max_depth=None, min_samples_split=2; total time=   0.5s\n",
            "[CV] END ................max_depth=None, min_samples_split=2; total time=   0.5s\n",
            "[CV] END ................max_depth=None, min_samples_split=2; total time=   0.5s\n",
            "[CV] END ................max_depth=None, min_samples_split=5; total time=   0.6s\n",
            "[CV] END ................max_depth=None, min_samples_split=5; total time=   0.5s\n",
            "[CV] END ................max_depth=None, min_samples_split=5; total time=   0.7s\n",
            "[CV] END ................max_depth=None, min_samples_split=5; total time=   0.6s\n",
            "[CV] END ................max_depth=None, min_samples_split=5; total time=   0.8s\n",
            "[CV] END ...............max_depth=None, min_samples_split=10; total time=   0.3s\n",
            "[CV] END ...............max_depth=None, min_samples_split=10; total time=   0.3s\n",
            "[CV] END ...............max_depth=None, min_samples_split=10; total time=   0.3s\n",
            "[CV] END ...............max_depth=None, min_samples_split=10; total time=   0.4s\n",
            "[CV] END ...............max_depth=None, min_samples_split=10; total time=   0.4s\n",
            "[CV] END ...................max_depth=5, min_samples_split=2; total time=   0.2s\n",
            "[CV] END ...................max_depth=5, min_samples_split=2; total time=   0.2s\n",
            "[CV] END ...................max_depth=5, min_samples_split=2; total time=   0.2s\n",
            "[CV] END ...................max_depth=5, min_samples_split=2; total time=   0.2s\n",
            "[CV] END ...................max_depth=5, min_samples_split=2; total time=   0.2s\n",
            "[CV] END ...................max_depth=5, min_samples_split=5; total time=   0.2s\n",
            "[CV] END ...................max_depth=5, min_samples_split=5; total time=   0.2s\n",
            "[CV] END ...................max_depth=5, min_samples_split=5; total time=   0.2s\n",
            "[CV] END ...................max_depth=5, min_samples_split=5; total time=   0.2s\n",
            "[CV] END ...................max_depth=5, min_samples_split=5; total time=   0.2s\n",
            "[CV] END ..................max_depth=5, min_samples_split=10; total time=   0.2s\n",
            "[CV] END ..................max_depth=5, min_samples_split=10; total time=   0.2s\n",
            "[CV] END ..................max_depth=5, min_samples_split=10; total time=   0.2s\n",
            "[CV] END ..................max_depth=5, min_samples_split=10; total time=   0.2s\n",
            "[CV] END ..................max_depth=5, min_samples_split=10; total time=   0.2s\n",
            "[CV] END ..................max_depth=10, min_samples_split=2; total time=   0.3s\n",
            "[CV] END ..................max_depth=10, min_samples_split=2; total time=   0.2s\n",
            "[CV] END ..................max_depth=10, min_samples_split=2; total time=   0.2s\n",
            "[CV] END ..................max_depth=10, min_samples_split=2; total time=   0.2s\n",
            "[CV] END ..................max_depth=10, min_samples_split=2; total time=   0.2s\n",
            "[CV] END ..................max_depth=10, min_samples_split=5; total time=   0.2s\n",
            "[CV] END ..................max_depth=10, min_samples_split=5; total time=   0.2s\n",
            "[CV] END ..................max_depth=10, min_samples_split=5; total time=   0.2s\n",
            "[CV] END ..................max_depth=10, min_samples_split=5; total time=   0.2s\n",
            "[CV] END ..................max_depth=10, min_samples_split=5; total time=   0.2s\n",
            "[CV] END .................max_depth=10, min_samples_split=10; total time=   0.2s\n",
            "[CV] END .................max_depth=10, min_samples_split=10; total time=   0.2s\n",
            "[CV] END .................max_depth=10, min_samples_split=10; total time=   0.2s\n",
            "[CV] END .................max_depth=10, min_samples_split=10; total time=   0.2s\n",
            "[CV] END .................max_depth=10, min_samples_split=10; total time=   0.2s\n",
            "Best Parameters: {'max_depth': 5, 'min_samples_split': 5}\n",
            "Best Model's Accuracy: 0.9460827916524119\n"
          ]
        }
      ]
    },
    {
      "cell_type": "code",
      "source": [
        "from sklearn.ensemble import RandomForestClassifier\n",
        "\n",
        "param_grid = {'n_estimators': [50, 100, 200], 'max_depth': [None, 5, 10], 'min_samples_split': [2, 5, 10]}\n",
        "\n",
        "# Create Random Forest classifier\n",
        "model3 = RandomForestClassifier()\n",
        "\n",
        "# Create GridSearchCV instance\n",
        "grid_search = GridSearchCV(model3, param_grid, cv=5, verbose=2)\n",
        "\n",
        "# Fit the GridSearchCV to find the best parameters\n",
        "grid_search.fit(X1_train, y1_train)\n",
        "\n",
        "# Get the best parameters and the best estimator\n",
        "best_params = grid_search.best_params_\n",
        "best_estimator = grid_search.best_estimator_\n",
        "\n",
        "# Evaluate the best model\n",
        "accuracy = best_estimator.score(X1_test, y1_test)\n",
        "print(f\"Best Parameters: {best_params}\")\n",
        "print(f\"Best Model's Accuracy: {accuracy}\")\n"
      ],
      "metadata": {
        "colab": {
          "base_uri": "https://localhost:8080/"
        },
        "id": "frsGHHxiDpWe",
        "outputId": "9f1f6102-63c2-437b-f524-e1a395705797"
      },
      "execution_count": null,
      "outputs": [
        {
          "output_type": "stream",
          "name": "stdout",
          "text": [
            "Fitting 5 folds for each of 27 candidates, totalling 135 fits\n",
            "[CV] END max_depth=None, min_samples_split=2, n_estimators=50; total time=   5.9s\n",
            "[CV] END max_depth=None, min_samples_split=2, n_estimators=50; total time=   3.2s\n",
            "[CV] END max_depth=None, min_samples_split=2, n_estimators=50; total time=   3.7s\n",
            "[CV] END max_depth=None, min_samples_split=2, n_estimators=50; total time=   3.1s\n",
            "[CV] END max_depth=None, min_samples_split=2, n_estimators=50; total time=   3.7s\n",
            "[CV] END max_depth=None, min_samples_split=2, n_estimators=100; total time=   5.0s\n",
            "[CV] END max_depth=None, min_samples_split=2, n_estimators=100; total time=   5.0s\n",
            "[CV] END max_depth=None, min_samples_split=2, n_estimators=100; total time=   6.3s\n",
            "[CV] END max_depth=None, min_samples_split=2, n_estimators=100; total time=   5.0s\n",
            "[CV] END max_depth=None, min_samples_split=2, n_estimators=100; total time=   5.8s\n",
            "[CV] END max_depth=None, min_samples_split=2, n_estimators=200; total time=  10.8s\n",
            "[CV] END max_depth=None, min_samples_split=2, n_estimators=200; total time=  11.5s\n",
            "[CV] END max_depth=None, min_samples_split=2, n_estimators=200; total time=  14.1s\n",
            "[CV] END max_depth=None, min_samples_split=2, n_estimators=200; total time=  12.0s\n",
            "[CV] END max_depth=None, min_samples_split=2, n_estimators=200; total time=  14.9s\n",
            "[CV] END max_depth=None, min_samples_split=5, n_estimators=50; total time=   3.6s\n",
            "[CV] END max_depth=None, min_samples_split=5, n_estimators=50; total time=   2.5s\n",
            "[CV] END max_depth=None, min_samples_split=5, n_estimators=50; total time=   3.6s\n",
            "[CV] END max_depth=None, min_samples_split=5, n_estimators=50; total time=   4.2s\n",
            "[CV] END max_depth=None, min_samples_split=5, n_estimators=50; total time=   4.6s\n",
            "[CV] END max_depth=None, min_samples_split=5, n_estimators=100; total time=   9.6s\n",
            "[CV] END max_depth=None, min_samples_split=5, n_estimators=100; total time=   8.3s\n",
            "[CV] END max_depth=None, min_samples_split=5, n_estimators=100; total time=  14.0s\n",
            "[CV] END max_depth=None, min_samples_split=5, n_estimators=100; total time=   9.6s\n",
            "[CV] END max_depth=None, min_samples_split=5, n_estimators=100; total time=   4.9s\n",
            "[CV] END max_depth=None, min_samples_split=5, n_estimators=200; total time=  17.6s\n",
            "[CV] END max_depth=None, min_samples_split=5, n_estimators=200; total time=  16.1s\n",
            "[CV] END max_depth=None, min_samples_split=5, n_estimators=200; total time=   9.8s\n",
            "[CV] END max_depth=None, min_samples_split=5, n_estimators=200; total time=  11.6s\n",
            "[CV] END max_depth=None, min_samples_split=5, n_estimators=200; total time=  11.1s\n",
            "[CV] END max_depth=None, min_samples_split=10, n_estimators=50; total time=   2.4s\n",
            "[CV] END max_depth=None, min_samples_split=10, n_estimators=50; total time=   2.4s\n",
            "[CV] END max_depth=None, min_samples_split=10, n_estimators=50; total time=   5.5s\n",
            "[CV] END max_depth=None, min_samples_split=10, n_estimators=50; total time=   4.6s\n",
            "[CV] END max_depth=None, min_samples_split=10, n_estimators=50; total time=   4.2s\n",
            "[CV] END max_depth=None, min_samples_split=10, n_estimators=100; total time=   7.6s\n",
            "[CV] END max_depth=None, min_samples_split=10, n_estimators=100; total time=   4.8s\n",
            "[CV] END max_depth=None, min_samples_split=10, n_estimators=100; total time=   5.6s\n",
            "[CV] END max_depth=None, min_samples_split=10, n_estimators=100; total time=   5.3s\n",
            "[CV] END max_depth=None, min_samples_split=10, n_estimators=100; total time=   4.7s\n",
            "[CV] END max_depth=None, min_samples_split=10, n_estimators=200; total time=  10.9s\n",
            "[CV] END max_depth=None, min_samples_split=10, n_estimators=200; total time=  11.5s\n",
            "[CV] END max_depth=None, min_samples_split=10, n_estimators=200; total time=  10.4s\n",
            "[CV] END max_depth=None, min_samples_split=10, n_estimators=200; total time=  17.9s\n",
            "[CV] END max_depth=None, min_samples_split=10, n_estimators=200; total time=  10.3s\n",
            "[CV] END ..max_depth=5, min_samples_split=2, n_estimators=50; total time=   2.0s\n",
            "[CV] END ..max_depth=5, min_samples_split=2, n_estimators=50; total time=   1.4s\n",
            "[CV] END ..max_depth=5, min_samples_split=2, n_estimators=50; total time=   1.5s\n",
            "[CV] END ..max_depth=5, min_samples_split=2, n_estimators=50; total time=   1.4s\n",
            "[CV] END ..max_depth=5, min_samples_split=2, n_estimators=50; total time=   1.4s\n",
            "[CV] END .max_depth=5, min_samples_split=2, n_estimators=100; total time=   2.8s\n",
            "[CV] END .max_depth=5, min_samples_split=2, n_estimators=100; total time=   4.8s\n",
            "[CV] END .max_depth=5, min_samples_split=2, n_estimators=100; total time=   3.1s\n",
            "[CV] END .max_depth=5, min_samples_split=2, n_estimators=100; total time=   2.8s\n",
            "[CV] END .max_depth=5, min_samples_split=2, n_estimators=100; total time=   2.8s\n",
            "[CV] END .max_depth=5, min_samples_split=2, n_estimators=200; total time=   6.9s\n",
            "[CV] END .max_depth=5, min_samples_split=2, n_estimators=200; total time=   5.5s\n",
            "[CV] END .max_depth=5, min_samples_split=2, n_estimators=200; total time=   6.6s\n",
            "[CV] END .max_depth=5, min_samples_split=2, n_estimators=200; total time=   6.0s\n",
            "[CV] END .max_depth=5, min_samples_split=2, n_estimators=200; total time=   6.1s\n",
            "[CV] END ..max_depth=5, min_samples_split=5, n_estimators=50; total time=   2.1s\n",
            "[CV] END ..max_depth=5, min_samples_split=5, n_estimators=50; total time=   1.7s\n",
            "[CV] END ..max_depth=5, min_samples_split=5, n_estimators=50; total time=   1.4s\n",
            "[CV] END ..max_depth=5, min_samples_split=5, n_estimators=50; total time=   2.7s\n",
            "[CV] END ..max_depth=5, min_samples_split=5, n_estimators=50; total time=   3.1s\n",
            "[CV] END .max_depth=5, min_samples_split=5, n_estimators=100; total time=   6.6s\n",
            "[CV] END .max_depth=5, min_samples_split=5, n_estimators=100; total time=   3.5s\n",
            "[CV] END .max_depth=5, min_samples_split=5, n_estimators=100; total time=   3.5s\n",
            "[CV] END .max_depth=5, min_samples_split=5, n_estimators=100; total time=   2.9s\n",
            "[CV] END .max_depth=5, min_samples_split=5, n_estimators=100; total time=   4.1s\n",
            "[CV] END .max_depth=5, min_samples_split=5, n_estimators=200; total time=   5.6s\n",
            "[CV] END .max_depth=5, min_samples_split=5, n_estimators=200; total time=   6.1s\n",
            "[CV] END .max_depth=5, min_samples_split=5, n_estimators=200; total time=  11.7s\n",
            "[CV] END .max_depth=5, min_samples_split=5, n_estimators=200; total time=  12.2s\n",
            "[CV] END .max_depth=5, min_samples_split=5, n_estimators=200; total time=   6.8s\n",
            "[CV] END .max_depth=5, min_samples_split=10, n_estimators=50; total time=   1.6s\n",
            "[CV] END .max_depth=5, min_samples_split=10, n_estimators=50; total time=   1.9s\n",
            "[CV] END .max_depth=5, min_samples_split=10, n_estimators=50; total time=   2.4s\n",
            "[CV] END .max_depth=5, min_samples_split=10, n_estimators=50; total time=   2.1s\n",
            "[CV] END .max_depth=5, min_samples_split=10, n_estimators=50; total time=   1.4s\n",
            "[CV] END max_depth=5, min_samples_split=10, n_estimators=100; total time=   5.5s\n",
            "[CV] END max_depth=5, min_samples_split=10, n_estimators=100; total time=   3.7s\n",
            "[CV] END max_depth=5, min_samples_split=10, n_estimators=100; total time=   4.0s\n",
            "[CV] END max_depth=5, min_samples_split=10, n_estimators=100; total time=   4.5s\n",
            "[CV] END max_depth=5, min_samples_split=10, n_estimators=100; total time=   3.5s\n",
            "[CV] END max_depth=5, min_samples_split=10, n_estimators=200; total time=   5.6s\n",
            "[CV] END max_depth=5, min_samples_split=10, n_estimators=200; total time=   7.7s\n",
            "[CV] END max_depth=5, min_samples_split=10, n_estimators=200; total time=   5.7s\n",
            "[CV] END max_depth=5, min_samples_split=10, n_estimators=200; total time=  11.2s\n",
            "[CV] END max_depth=5, min_samples_split=10, n_estimators=200; total time=   5.6s\n",
            "[CV] END .max_depth=10, min_samples_split=2, n_estimators=50; total time=   2.2s\n",
            "[CV] END .max_depth=10, min_samples_split=2, n_estimators=50; total time=   3.0s\n",
            "[CV] END .max_depth=10, min_samples_split=2, n_estimators=50; total time=   2.2s\n",
            "[CV] END .max_depth=10, min_samples_split=2, n_estimators=50; total time=   1.9s\n",
            "[CV] END .max_depth=10, min_samples_split=2, n_estimators=50; total time=   1.9s\n",
            "[CV] END max_depth=10, min_samples_split=2, n_estimators=100; total time=   3.9s\n",
            "[CV] END max_depth=10, min_samples_split=2, n_estimators=100; total time=   5.4s\n",
            "[CV] END max_depth=10, min_samples_split=2, n_estimators=100; total time=   4.0s\n",
            "[CV] END max_depth=10, min_samples_split=2, n_estimators=100; total time=   3.9s\n",
            "[CV] END max_depth=10, min_samples_split=2, n_estimators=100; total time=   5.2s\n",
            "[CV] END max_depth=10, min_samples_split=2, n_estimators=200; total time=   8.0s\n",
            "[CV] END max_depth=10, min_samples_split=2, n_estimators=200; total time=   9.1s\n",
            "[CV] END max_depth=10, min_samples_split=2, n_estimators=200; total time=   8.1s\n",
            "[CV] END max_depth=10, min_samples_split=2, n_estimators=200; total time=   9.5s\n",
            "[CV] END max_depth=10, min_samples_split=2, n_estimators=200; total time=   9.8s\n",
            "[CV] END .max_depth=10, min_samples_split=5, n_estimators=50; total time=   1.9s\n",
            "[CV] END .max_depth=10, min_samples_split=5, n_estimators=50; total time=   2.0s\n",
            "[CV] END .max_depth=10, min_samples_split=5, n_estimators=50; total time=   2.0s\n",
            "[CV] END .max_depth=10, min_samples_split=5, n_estimators=50; total time=   2.0s\n",
            "[CV] END .max_depth=10, min_samples_split=5, n_estimators=50; total time=   3.4s\n",
            "[CV] END max_depth=10, min_samples_split=5, n_estimators=100; total time=   4.5s\n",
            "[CV] END max_depth=10, min_samples_split=5, n_estimators=100; total time=   3.9s\n",
            "[CV] END max_depth=10, min_samples_split=5, n_estimators=100; total time=   4.5s\n",
            "[CV] END max_depth=10, min_samples_split=5, n_estimators=100; total time=   4.7s\n",
            "[CV] END max_depth=10, min_samples_split=5, n_estimators=100; total time=   3.9s\n",
            "[CV] END max_depth=10, min_samples_split=5, n_estimators=200; total time=   9.1s\n",
            "[CV] END max_depth=10, min_samples_split=5, n_estimators=200; total time=   7.8s\n",
            "[CV] END max_depth=10, min_samples_split=5, n_estimators=200; total time=   9.2s\n",
            "[CV] END max_depth=10, min_samples_split=5, n_estimators=200; total time=   8.8s\n",
            "[CV] END max_depth=10, min_samples_split=5, n_estimators=200; total time=   8.3s\n",
            "[CV] END max_depth=10, min_samples_split=10, n_estimators=50; total time=   1.9s\n",
            "[CV] END max_depth=10, min_samples_split=10, n_estimators=50; total time=   2.4s\n",
            "[CV] END max_depth=10, min_samples_split=10, n_estimators=50; total time=   2.8s\n",
            "[CV] END max_depth=10, min_samples_split=10, n_estimators=50; total time=   2.0s\n",
            "[CV] END max_depth=10, min_samples_split=10, n_estimators=50; total time=   1.9s\n",
            "[CV] END max_depth=10, min_samples_split=10, n_estimators=100; total time=   3.9s\n",
            "[CV] END max_depth=10, min_samples_split=10, n_estimators=100; total time=   4.8s\n",
            "[CV] END max_depth=10, min_samples_split=10, n_estimators=100; total time=   4.4s\n",
            "[CV] END max_depth=10, min_samples_split=10, n_estimators=100; total time=   3.9s\n",
            "[CV] END max_depth=10, min_samples_split=10, n_estimators=100; total time=   4.3s\n",
            "[CV] END max_depth=10, min_samples_split=10, n_estimators=200; total time=   8.6s\n",
            "[CV] END max_depth=10, min_samples_split=10, n_estimators=200; total time=   9.1s\n",
            "[CV] END max_depth=10, min_samples_split=10, n_estimators=200; total time=   7.9s\n",
            "[CV] END max_depth=10, min_samples_split=10, n_estimators=200; total time=   9.2s\n",
            "[CV] END max_depth=10, min_samples_split=10, n_estimators=200; total time=   8.7s\n",
            "Best Parameters: {'max_depth': None, 'min_samples_split': 5, 'n_estimators': 200}\n",
            "Best Model's Accuracy: 0.9475196715703045\n"
          ]
        }
      ]
    }
  ],
  "metadata": {
    "colab": {
      "provenance": []
    },
    "kernelspec": {
      "display_name": "Python 3",
      "name": "python3"
    },
    "language_info": {
      "name": "python"
    }
  },
  "nbformat": 4,
  "nbformat_minor": 0
}